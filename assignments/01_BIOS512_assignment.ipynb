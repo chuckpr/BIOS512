{
 "cells": [
  {
   "cell_type": "markdown",
   "metadata": {},
   "source": [
    "# BIOS512 Assignment #1"
   ]
  },
  {
   "cell_type": "markdown",
   "metadata": {},
   "source": [
    "This assignment will be submitted via GitHub. Once complete, download your notebook and upload it to your GitHub repository for the class.\n",
    "\n",
    "*Note:*\n",
    "- To download a notebook with Jupyter Lab, right click on the notebook in the sidebar file browser on the left and select `Download`.\n",
    "- To download a notebook in the Jupter Notebook interface, click `File > Download As > Notebook (.ipynb)`.\n",
    "\n"
   ]
  },
  {
   "cell_type": "markdown",
   "metadata": {},
   "source": [
    "Import the `tidyverse` and the `palmerpenguins` data into your R session."
   ]
  },
  {
   "cell_type": "code",
   "execution_count": null,
   "metadata": {},
   "outputs": [],
   "source": [
    "# library('tidyverse')\n",
    "# library('palmerpenguins')\n",
    "# options(repr.plot.res = 250, repr.plot.height = 3, repr.plot.width = 4)"
   ]
  },
  {
   "cell_type": "markdown",
   "metadata": {},
   "source": [
    "What `tidyverse` functions have conflicts with other functions in your R session? \n",
    "\n",
    "*(Hint: look at the output after you execute the cell above. If you run the cell twice the output will disappear but you can always start from a fresh \"kernel\" → from the `Kernel` menu above select `Restart Kernel` and re-run the cell)*\n",
    "\n",
    "**Write your answer below using markdown. Use the [unordered list syntax](https://daringfireball.net/projects/markdown/syntax#list) to format your answer.**"
   ]
  },
  {
   "cell_type": "code",
   "execution_count": null,
   "metadata": {},
   "outputs": [],
   "source": [
    "# remove this comment and answer in this cell (don't forget to switch it to Markdown!)\n",
    "\n"
   ]
  },
  {
   "cell_type": "markdown",
   "metadata": {},
   "source": [
    "Preview the `penguins` dataset (hint: use the `head` function)."
   ]
  },
  {
   "cell_type": "code",
   "execution_count": null,
   "metadata": {},
   "outputs": [],
   "source": []
  },
  {
   "cell_type": "markdown",
   "metadata": {},
   "source": [
    "Using the `penguins` dataset, make a scatter chart with `bill_length_mm` on the x-axis and `bill_depth_mm` on the y-axis."
   ]
  },
  {
   "cell_type": "code",
   "execution_count": null,
   "metadata": {},
   "outputs": [],
   "source": []
  },
  {
   "cell_type": "markdown",
   "metadata": {},
   "source": [
    "Make the same plot but *encode* the `species` column with color."
   ]
  },
  {
   "cell_type": "code",
   "execution_count": null,
   "metadata": {},
   "outputs": [],
   "source": []
  },
  {
   "cell_type": "markdown",
   "metadata": {},
   "source": [
    "Make a bar chart *like* the one below 👇 with using `geom_bar(fill = 'steelblue')` and `aes(y = island)`. "
   ]
  },
  {
   "cell_type": "markdown",
   "metadata": {},
   "source": [
    "<div style=\"display:flex;justify-content:center;\">\n",
    "<img src=\"01_bar_chart.png\" style=\"width: 400px\" />\n",
    "</div>"
   ]
  },
  {
   "cell_type": "code",
   "execution_count": null,
   "metadata": {},
   "outputs": [],
   "source": [
    "# Put your bar chart code here\n",
    "\n"
   ]
  }
 ],
 "metadata": {
  "kernelspec": {
   "display_name": "R",
   "language": "R",
   "name": "ir"
  },
  "language_info": {
   "codemirror_mode": "r",
   "file_extension": ".r",
   "mimetype": "text/x-r-source",
   "name": "R",
   "pygments_lexer": "r",
   "version": "4.1.3"
  }
 },
 "nbformat": 4,
 "nbformat_minor": 4
}
