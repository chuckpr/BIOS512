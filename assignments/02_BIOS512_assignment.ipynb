{
 "cells": [
  {
   "cell_type": "markdown",
   "id": "cd25411e-408b-49f1-bd11-f80c7d39395b",
   "metadata": {},
   "source": [
    "# BIOS512 Assignment #2"
   ]
  },
  {
   "cell_type": "markdown",
   "id": "47819309-5cd0-431b-ac11-14a1d388e1bf",
   "metadata": {},
   "source": [
    "📚 import the `TidyVerse` package. 📚"
   ]
  },
  {
   "cell_type": "code",
   "execution_count": null,
   "id": "f86fae60-93e5-4f05-85e4-f12553e2f514",
   "metadata": {},
   "outputs": [],
   "source": []
  },
  {
   "cell_type": "markdown",
   "id": "c6e7ef5a-59a8-4d20-ac8f-bce768d14b97",
   "metadata": {},
   "source": [
    "Uncomment the code below and execute the following cell. This code provides a table for us called `ncaa_sports_spending`."
   ]
  },
  {
   "cell_type": "code",
   "execution_count": null,
   "id": "f0867550-2743-491b-9cdb-4de89fba5991",
   "metadata": {},
   "outputs": [],
   "source": [
    "# data_url = 'https://raw.githubusercontent.com/rfordatascience/tidytuesday/master/data/2022/2022-03-29/sports.csv'\n",
    "\n",
    "# ncaa_sports_spending = read_csv(data_url, col_types = cols()) |> \n",
    "#     filter(sports == 'Basketball') |>\n",
    "#     pivot_longer(c(exp_men, exp_women), names_to = 'men_or_women', values_to = 'expenditure_usd') |>\n",
    "#     select(year, institution_name, men_or_women, expenditure_usd) |>\n",
    "#     mutate(men_or_women = str_replace(men_or_women, 'exp_', ''))"
   ]
  },
  {
   "cell_type": "markdown",
   "id": "2b5fed88-3327-47fb-b557-79549a35228b",
   "metadata": {},
   "source": [
    "**Compare the spending on men's versus women's basketball over time using a bar chart.**\n",
    "\n",
    "Either use an *encoding* or *facet* to plot separate bars for men and women.\n",
    "\n",
    "(**Hint** you can use `geom_col` with `x` and `y` encodings so the bar height reflects spending.)"
   ]
  },
  {
   "cell_type": "code",
   "execution_count": null,
   "id": "72c869ad-0faa-43c6-b020-25182e654a99",
   "metadata": {},
   "outputs": [],
   "source": [
    "# bar chart code goes here\n",
    "\n",
    "\n",
    "\n",
    "\n"
   ]
  },
  {
   "cell_type": "markdown",
   "id": "743bf2e1-7fe3-4caf-8fd2-244277a82a3b",
   "metadata": {},
   "source": [
    "You can find my solution [here](https://raw.githubusercontent.com/chuckpr/BIOS512/main/assignments/sports_spendig_chart.png). **Your chart does not need to look exactly like mine!** You may arrive at a different solution 🙂. \n",
    "\n",
    "To get the dollar signs in the axis labels I added this adujustment to my chart:\n",
    "\n",
    "```r\n",
    "scale_y_continuous(labels = scales::dollar_format())\n",
    "```"
   ]
  },
  {
   "cell_type": "markdown",
   "id": "39f20ace-fd8c-4722-a312-4a0761ef55cf",
   "metadata": {},
   "source": [
    "**Visualize the same data but this time with a line chart. Make sure your lines are \"grouped\" according to the `men_or_women` column.**"
   ]
  },
  {
   "cell_type": "code",
   "execution_count": null,
   "id": "57b46cd5-4a9d-43a1-9143-99bb3ea22ad4",
   "metadata": {},
   "outputs": [],
   "source": [
    "# line chart code goes here\n",
    "\n",
    "\n",
    "\n",
    "\n",
    "\n",
    "\n"
   ]
  },
  {
   "cell_type": "markdown",
   "id": "2b4fb941-d796-416f-85ec-dc7a5a3c14ad",
   "metadata": {},
   "source": [
    "Uncomment and execute the code below to get a table for just UNC sports spending in 2019 called `unc_sports_spending_2019`."
   ]
  },
  {
   "cell_type": "code",
   "execution_count": null,
   "id": "847246e9-530e-4b70-ab66-678a41ee0e0e",
   "metadata": {},
   "outputs": [],
   "source": [
    "# unc_sports_spending_2019 = read_csv(data_url, col_types = cols()) |> \n",
    "#     filter(institution_name == 'University of North Carolina at Chapel Hill', year == 2019) |>\n",
    "#     pivot_longer(c(exp_men, exp_women), names_to = 'men_or_women', values_to = 'expenditure_usd') |>\n",
    "#     arrange(rev(men_or_women), expenditure_usd) |>\n",
    "#     mutate(sports = fct_inorder(sports)) |>\n",
    "#     select(year, institution_name, sports, men_or_women, expenditure_usd) |>\n",
    "#     mutate(men_or_women = str_replace(men_or_women, 'exp_', '')) |>\n",
    "#     filter(!is.na(expenditure_usd))"
   ]
  },
  {
   "cell_type": "markdown",
   "id": "b2e667a5-6252-42e9-9f21-f36f73490f6a",
   "metadata": {},
   "source": [
    "Make a bar chart that compares spending across all sports for men versus women at UNC in 2019."
   ]
  },
  {
   "cell_type": "code",
   "execution_count": null,
   "id": "86be63e5-5a95-4792-8330-5302430fdecf",
   "metadata": {},
   "outputs": [],
   "source": [
    "# bar chart code goes here\n",
    "\n",
    "\n",
    "\n",
    "\n"
   ]
  },
  {
   "cell_type": "markdown",
   "id": "377fe163-60fc-4e93-b8b9-322a4ba3e345",
   "metadata": {},
   "source": [
    "You can find my solution [here](https://raw.githubusercontent.com/chuckpr/BIOS512/main/assignments/unc_sports_spending.png). **Your chart does not need to look exactly like mine!**\n",
    "\n",
    "To get the fancy dollar labels I had to do a couple things:\n",
    "\n",
    "First my `weight` encoding was like this:\n",
    "```r\n",
    "weight = expenditure_usd / 1e6\n",
    "```\n",
    "\n",
    "Second, I added this to my chart adjust how my axis labels were presented:\n",
    "```r\n",
    "scale_x_continuous(labels = scales::dollar_format(suffix = 'M')) + labs(x = 'Spending')\n",
    "```\n",
    "\n",
    "**BONUS** \n",
    "Can you make sense of the code above? What does the `labs` function do for instance?"
   ]
  },
  {
   "cell_type": "code",
   "execution_count": null,
   "id": "56bcf255-fad6-4e62-b394-aa2cb8ea9a57",
   "metadata": {},
   "outputs": [],
   "source": []
  }
 ],
 "metadata": {
  "kernelspec": {
   "display_name": "R",
   "language": "R",
   "name": "ir"
  },
  "language_info": {
   "codemirror_mode": "r",
   "file_extension": ".r",
   "mimetype": "text/x-r-source",
   "name": "R",
   "pygments_lexer": "r",
   "version": "4.2.2"
  }
 },
 "nbformat": 4,
 "nbformat_minor": 5
}
