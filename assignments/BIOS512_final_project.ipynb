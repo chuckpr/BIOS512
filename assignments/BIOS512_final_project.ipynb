{
 "cells": [
  {
   "cell_type": "markdown",
   "id": "5d0eeb08-8916-4d62-9439-14a565655fa6",
   "metadata": {},
   "source": [
    "# Final Project"
   ]
  },
  {
   "cell_type": "markdown",
   "id": "8ae26f00-8b27-43ca-8e05-22a80c5a302e",
   "metadata": {},
   "source": [
    "**Due December 7th, 2022 (Wednesday)**"
   ]
  },
  {
   "cell_type": "markdown",
   "id": "9e15c666-1f86-4052-8795-ea8884140ab5",
   "metadata": {},
   "source": [
    "For your final project you will develop a data narrative with a dataset of your choosing. Your data can come from any source. You do not have to comprehensively explore your data. Pick an interesting aspect or two from which to build your narrative."
   ]
  },
  {
   "cell_type": "markdown",
   "id": "af2240af-1cdc-489c-9aa5-10334c628a92",
   "metadata": {},
   "source": [
    "## Requirements"
   ]
  },
  {
   "cell_type": "markdown",
   "id": "c6020fc0-6632-4320-b8ad-64b75b08d0b0",
   "metadata": {
    "tags": []
   },
   "source": [
    "- At least **three** visualizations. Visualizations can be simple bar charts that total data categories or rich exploratory figures. (*Tables also count as visualizations but you must have at least two charts.*) \n",
    "- All of the code should be recorded in your narrative. That is, I should be able to run your notebook code start to finish re-producing each of your outputs without error.\n",
    "- At least **two** but no more than **three** paragraphs walking the reader through your analysis.\n",
    "- Charts should exhibit your command of `ggplot2/dplyr/forcats/tidyr` with: \n",
    "  - sensibly sorted categories, \n",
    "  - interpretable labels/axis titles, \n",
    "  - useful annotations (when applicable), \n",
    "  - adjustments to default chart aesthetics, \n",
    "  - appropriate markings (e.g. `geoms`) and encodings."
   ]
  },
  {
   "cell_type": "markdown",
   "id": "c2b1f679-817e-4f05-a3f2-c437996f4e9c",
   "metadata": {},
   "source": [
    "## Notes"
   ]
  },
  {
   "cell_type": "markdown",
   "id": "563bef01-11aa-43ef-af1c-d543aca21ff6",
   "metadata": {},
   "source": [
    "*This project should not take you longer than the time to complete two of our assignments. It is meant to demonstrate that you can build an analysis using `R` and the `Tidyverse` from scratch. Focus your analysis on a small number of data features that you find interesting.*\n",
    "\n",
    "*Remember all the ways of visualizing distributions (ECDFs, histograms, jitter-ed scatter plots, etc.). These will come in very handy!* "
   ]
  }
 ],
 "metadata": {
  "kernelspec": {
   "display_name": "R",
   "language": "R",
   "name": "ir"
  },
  "language_info": {
   "codemirror_mode": "r",
   "file_extension": ".r",
   "mimetype": "text/x-r-source",
   "name": "R",
   "pygments_lexer": "r",
   "version": "4.2.1"
  }
 },
 "nbformat": 4,
 "nbformat_minor": 5
}
