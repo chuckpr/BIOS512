{
 "cells": [
  {
   "cell_type": "markdown",
   "id": "0ddac483-9103-435b-b659-7fcd9ce59f60",
   "metadata": {},
   "source": [
    "# BIOS512 Assignment #4"
   ]
  },
  {
   "cell_type": "markdown",
   "id": "3cc32e0c-79d2-49e3-aa79-24cccfe873ea",
   "metadata": {},
   "source": [
    "🌬 For this assignment we are going to work with [Canada wind turbine](https://github.com/rfordatascience/tidytuesday/blob/master/data/2020/2020-10-27/readme.md) data from TidyTuesday. 💨"
   ]
  },
  {
   "cell_type": "markdown",
   "id": "359a4e8a-4e91-444a-a0c5-02f46c81719e",
   "metadata": {},
   "source": [
    "Use `read_csv` to load the data from the TidyTuesday GitHub repository. The project URL is can be found at [https://github.com/rfordatascience/tidytuesday/blob/master/data/2020/2020-10-27/](https://github.com/rfordatascience/tidytuesday/blob/master/data/2020/2020-10-27/)."
   ]
  },
  {
   "cell_type": "code",
   "execution_count": null,
   "id": "fd3262cf-5af8-4c29-af56-51717fe62323",
   "metadata": {},
   "outputs": [],
   "source": []
  },
  {
   "cell_type": "markdown",
   "id": "69a2e2c8-6cac-4f20-81ab-c48eb344bf0e",
   "metadata": {},
   "source": [
    "Each row in the table represents a single turbine."
   ]
  },
  {
   "cell_type": "markdown",
   "id": "4d9074db-0b35-4582-a9ef-1b3db5e883ba",
   "metadata": {},
   "source": [
    "Make a bar chart 📊 **sorted by frequency** of turbine count per province territory. (Hint: `fct_infreq` will sort your factor levels by frequency for subsequent plotting)"
   ]
  },
  {
   "cell_type": "code",
   "execution_count": null,
   "id": "ab7785c3-6077-4708-a1d3-151044c63804",
   "metadata": {},
   "outputs": [],
   "source": []
  },
  {
   "cell_type": "markdown",
   "id": "c9c011e1-342a-4ac2-a37d-27f6854a9f13",
   "metadata": {},
   "source": [
    "Make a bar chart **sorted by frequency** of turbine count per manufacturer. **Group the low frequency manufacturers into an `Other` category**.\n",
    "\n",
    "**Bonus:** Can you force the `Other` category to be the last bar? "
   ]
  },
  {
   "cell_type": "code",
   "execution_count": null,
   "id": "7003026c-f685-4baf-9470-c559f702cc02",
   "metadata": {},
   "outputs": [],
   "source": []
  },
  {
   "cell_type": "markdown",
   "id": "cfee3f8b-391d-48b4-81f4-9d88e091b411",
   "metadata": {},
   "source": [
    "Let's make a map of where each turbine is located. 🗺️\n",
    "\n",
    "In the cell below ⬇️ load the `mapdata`."
   ]
  },
  {
   "cell_type": "code",
   "execution_count": null,
   "id": "f330d546-74ff-4bef-9eba-533795195611",
   "metadata": {},
   "outputs": [],
   "source": []
  },
  {
   "cell_type": "markdown",
   "id": "5a07b6ed-46c2-4645-b3ff-47e168296673",
   "metadata": {},
   "source": [
    "Now we can retrieve the \"data\" for a map of Canada. Run this code:"
   ]
  },
  {
   "cell_type": "code",
   "execution_count": null,
   "id": "b1e17993-8db6-4d0f-b99a-241f40b16c75",
   "metadata": {},
   "outputs": [],
   "source": [
    "canada = map_data('world', region='Canada')  "
   ]
  },
  {
   "cell_type": "markdown",
   "id": "c16765b4-4461-4fe8-8b37-a09f8fcc76f6",
   "metadata": {},
   "source": [
    "Are the column names for `latitude` and `longitude` the same for your Canada map data and the turbine data?"
   ]
  },
  {
   "cell_type": "code",
   "execution_count": null,
   "id": "e9349561-a56e-4436-be3b-b5aefc8e7f6f",
   "metadata": {},
   "outputs": [],
   "source": [
    "\n",
    "\n"
   ]
  },
  {
   "cell_type": "markdown",
   "id": "e0036ff0-4933-4e85-accb-f56f76a87b42",
   "metadata": {},
   "source": [
    "The code below creates a map of Canada. Modify the code to add the turbine locations. \n",
    "\n",
    "❗️ **Hint:** use `geom_point`. Remember to, \n",
    "1. define encodings inside of `geom_point` that work for the **turbine data**, and\n",
    "2. to override the data in `geom_point` to use the **turbine data** instead of the **Canada map data**. ❗️\n",
    "\n",
    "[This](https://github.com/chuckpr/BIOS512/blob/main/assignments/2024/map.png?raw=true) is what the map should look like..."
   ]
  },
  {
   "cell_type": "code",
   "execution_count": null,
   "id": "430bd995-d553-499a-8920-c98d0f5785c5",
   "metadata": {},
   "outputs": [],
   "source": [
    "ggplot(data = canada) + \n",
    "    geom_polygon(aes(x = long, y = lat, group = group), fill = 'coral', color = \"white\", alpha = 0.5) + \n",
    "    coord_quickmap()"
   ]
  }
 ],
 "metadata": {
  "kernelspec": {
   "display_name": "R",
   "language": "R",
   "name": "ir"
  },
  "language_info": {
   "codemirror_mode": "r",
   "file_extension": ".r",
   "mimetype": "text/x-r-source",
   "name": "R",
   "pygments_lexer": "r",
   "version": "4.2.3"
  }
 },
 "nbformat": 4,
 "nbformat_minor": 5
}
