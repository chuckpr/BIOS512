{
 "cells": [
  {
   "cell_type": "markdown",
   "id": "4bfe59c7-5906-4836-abea-0b05d22f2f70",
   "metadata": {},
   "source": [
    "# BIOS512 Assignment #2"
   ]
  },
  {
   "cell_type": "markdown",
   "id": "ec601401-5bdd-4262-85f5-9901ff235bd5",
   "metadata": {},
   "source": [
    "📚 Import the `tidyverse` and the `palmerpenguins` packages. (**Hint:** use the `library` function)"
   ]
  },
  {
   "cell_type": "code",
   "execution_count": null,
   "id": "4a2a4892-57eb-4470-aee2-b5a7d5fb0934",
   "metadata": {},
   "outputs": [],
   "source": []
  },
  {
   "cell_type": "markdown",
   "id": "4b978234-c5ed-4343-9ff6-566168ddcb87",
   "metadata": {},
   "source": [
    "Use `geom_bar` to make a histogram of penguin counts by `year`."
   ]
  },
  {
   "cell_type": "code",
   "execution_count": null,
   "id": "8f5a1a56-5a26-40f3-b5de-880dd93f5317",
   "metadata": {},
   "outputs": [],
   "source": []
  },
  {
   "cell_type": "markdown",
   "id": "61509f43-ed8f-4bfe-ae2a-de7ac20dadc1",
   "metadata": {},
   "source": [
    "Make a histogram or KDE plot that shows the distribution of body mass in each year. *Use a different theme than the default.*"
   ]
  },
  {
   "cell_type": "code",
   "execution_count": null,
   "id": "144c18bf-b7b5-4083-93e9-eba0f29e9e4e",
   "metadata": {},
   "outputs": [],
   "source": []
  },
  {
   "cell_type": "markdown",
   "id": "da205803-8143-47f4-8e94-4f58c6e6157a",
   "metadata": {},
   "source": [
    "🎉**BONUS**: can you adjust the `x-axis` labels to have \"comma\" formatting? (**Hint:** use `comma` from the `scales` package.)"
   ]
  },
  {
   "cell_type": "markdown",
   "id": "dbc6a34b-27a2-4500-98d1-8ae804b98319",
   "metadata": {},
   "source": [
    "👇 Here is the chart I made for reference."
   ]
  },
  {
   "cell_type": "markdown",
   "id": "03d76681-29fc-4d12-9e84-049dc329999d",
   "metadata": {},
   "source": [
    "<img src=\"https://github.com/chuckpr/BIOS512/blob/main/assignments/mass_histograms3.png?raw=true\" style=\"width:700px\" />"
   ]
  },
  {
   "cell_type": "markdown",
   "id": "03bd8328-3e97-4102-bc70-77e3e17d9f28",
   "metadata": {},
   "source": [
    "Is there a difference between the body mass of male and female penguis? Use a scatter plot with jitter to compare the masses of male and female penguins. **Facet by `species` to see compare within each species-group.**"
   ]
  },
  {
   "cell_type": "code",
   "execution_count": null,
   "id": "a8ba1f52-7f01-443c-bc60-4832e6933255",
   "metadata": {},
   "outputs": [],
   "source": []
  },
  {
   "cell_type": "markdown",
   "id": "aa245934-9d77-4f42-a982-cebafd099289",
   "metadata": {},
   "source": [
    "👇 Here is my solution for reference. "
   ]
  },
  {
   "cell_type": "markdown",
   "id": "abc80128-7051-47fe-91cb-a0922bfcbbf1",
   "metadata": {},
   "source": [
    "<img src=\"https://github.com/chuckpr/BIOS512/blob/main/assignments/sex_differences_in_body_mass_within_species.png?raw=true\" style=\"width: 600px\" />"
   ]
  }
 ],
 "metadata": {
  "kernelspec": {
   "display_name": "R",
   "language": "R",
   "name": "ir"
  },
  "language_info": {
   "codemirror_mode": "r",
   "file_extension": ".r",
   "mimetype": "text/x-r-source",
   "name": "R",
   "pygments_lexer": "r",
   "version": "4.1.3"
  }
 },
 "nbformat": 4,
 "nbformat_minor": 5
}
