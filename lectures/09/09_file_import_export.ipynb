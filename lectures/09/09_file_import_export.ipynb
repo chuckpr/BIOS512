{
 "cells": [
  {
   "cell_type": "markdown",
   "id": "e984f5dd-3594-4b41-9b9e-5a2071cc53fe",
   "metadata": {
    "slideshow": {
     "slide_type": "slide"
    }
   },
   "source": [
    "# Data import/export"
   ]
  },
  {
   "cell_type": "markdown",
   "id": "ec8ca07e-919e-41ce-bbd9-5a8377100049",
   "metadata": {
    "slideshow": {
     "slide_type": "slide"
    }
   },
   "source": [
    "## readr"
   ]
  },
  {
   "cell_type": "code",
   "execution_count": 1,
   "id": "ffbd11da-ac3f-4d97-a5d4-87cda87256c3",
   "metadata": {},
   "outputs": [
    {
     "name": "stderr",
     "output_type": "stream",
     "text": [
      "── \u001b[1mAttaching packages\u001b[22m ──────────────────────────────────────────────────────────────────────────────────────────────────────────── tidyverse 1.3.1 ──\n",
      "\n",
      "\u001b[32m✔\u001b[39m \u001b[34mggplot2\u001b[39m 3.3.5     \u001b[32m✔\u001b[39m \u001b[34mpurrr  \u001b[39m 0.3.4\n",
      "\u001b[32m✔\u001b[39m \u001b[34mtibble \u001b[39m 3.1.5     \u001b[32m✔\u001b[39m \u001b[34mdplyr  \u001b[39m 1.0.7\n",
      "\u001b[32m✔\u001b[39m \u001b[34mtidyr  \u001b[39m 1.1.4     \u001b[32m✔\u001b[39m \u001b[34mstringr\u001b[39m 1.4.0\n",
      "\u001b[32m✔\u001b[39m \u001b[34mreadr  \u001b[39m 2.0.2     \u001b[32m✔\u001b[39m \u001b[34mforcats\u001b[39m 0.5.1\n",
      "\n",
      "── \u001b[1mConflicts\u001b[22m ─────────────────────────────────────────────────────────────────────────────────────────────────────────────── tidyverse_conflicts() ──\n",
      "\u001b[31m✖\u001b[39m \u001b[34mdplyr\u001b[39m::\u001b[32mfilter()\u001b[39m masks \u001b[34mstats\u001b[39m::filter()\n",
      "\u001b[31m✖\u001b[39m \u001b[34mdplyr\u001b[39m::\u001b[32mlag()\u001b[39m    masks \u001b[34mstats\u001b[39m::lag()\n",
      "\n"
     ]
    }
   ],
   "source": [
    "library('tidyverse')"
   ]
  },
  {
   "cell_type": "code",
   "execution_count": 2,
   "id": "61727551-b23d-43ec-9ecc-a008994d4d6f",
   "metadata": {},
   "outputs": [],
   "source": [
    "# read_csv"
   ]
  },
  {
   "cell_type": "code",
   "execution_count": 3,
   "id": "c699da62-65c5-4407-9651-889ef06e2a47",
   "metadata": {},
   "outputs": [],
   "source": [
    "# write_csv"
   ]
  },
  {
   "cell_type": "code",
   "execution_count": 4,
   "id": "3fb06ab5-0c4a-4958-8bbe-d6995aea06e1",
   "metadata": {
    "slideshow": {
     "slide_type": "slide"
    }
   },
   "outputs": [
    {
     "data": {
      "text/html": [
       "<table class=\"dataframe\">\n",
       "<caption>A tibble: 6 × 15</caption>\n",
       "<thead>\n",
       "\t<tr><th scope=col>origin</th><th scope=col>year</th><th scope=col>month</th><th scope=col>day</th><th scope=col>hour</th><th scope=col>temp</th><th scope=col>dewp</th><th scope=col>humid</th><th scope=col>wind_dir</th><th scope=col>wind_speed</th><th scope=col>wind_gust</th><th scope=col>precip</th><th scope=col>pressure</th><th scope=col>visib</th><th scope=col>time_hour</th></tr>\n",
       "\t<tr><th scope=col>&lt;chr&gt;</th><th scope=col>&lt;int&gt;</th><th scope=col>&lt;int&gt;</th><th scope=col>&lt;int&gt;</th><th scope=col>&lt;int&gt;</th><th scope=col>&lt;dbl&gt;</th><th scope=col>&lt;dbl&gt;</th><th scope=col>&lt;dbl&gt;</th><th scope=col>&lt;dbl&gt;</th><th scope=col>&lt;dbl&gt;</th><th scope=col>&lt;dbl&gt;</th><th scope=col>&lt;dbl&gt;</th><th scope=col>&lt;dbl&gt;</th><th scope=col>&lt;dbl&gt;</th><th scope=col>&lt;dttm&gt;</th></tr>\n",
       "</thead>\n",
       "<tbody>\n",
       "\t<tr><td>EWR</td><td>2013</td><td>1</td><td>1</td><td>1</td><td>39.02</td><td>26.06</td><td>59.37</td><td>270</td><td>10.35702</td><td>NA</td><td>0</td><td>1012.0</td><td>10</td><td>2013-01-01 01:00:00</td></tr>\n",
       "\t<tr><td>EWR</td><td>2013</td><td>1</td><td>1</td><td>2</td><td>39.02</td><td>26.96</td><td>61.63</td><td>250</td><td> 8.05546</td><td>NA</td><td>0</td><td>1012.3</td><td>10</td><td>2013-01-01 02:00:00</td></tr>\n",
       "\t<tr><td>EWR</td><td>2013</td><td>1</td><td>1</td><td>3</td><td>39.02</td><td>28.04</td><td>64.43</td><td>240</td><td>11.50780</td><td>NA</td><td>0</td><td>1012.5</td><td>10</td><td>2013-01-01 03:00:00</td></tr>\n",
       "\t<tr><td>EWR</td><td>2013</td><td>1</td><td>1</td><td>4</td><td>39.92</td><td>28.04</td><td>62.21</td><td>250</td><td>12.65858</td><td>NA</td><td>0</td><td>1012.2</td><td>10</td><td>2013-01-01 04:00:00</td></tr>\n",
       "\t<tr><td>EWR</td><td>2013</td><td>1</td><td>1</td><td>5</td><td>39.02</td><td>28.04</td><td>64.43</td><td>260</td><td>12.65858</td><td>NA</td><td>0</td><td>1011.9</td><td>10</td><td>2013-01-01 05:00:00</td></tr>\n",
       "\t<tr><td>EWR</td><td>2013</td><td>1</td><td>1</td><td>6</td><td>37.94</td><td>28.04</td><td>67.21</td><td>240</td><td>11.50780</td><td>NA</td><td>0</td><td>1012.4</td><td>10</td><td>2013-01-01 06:00:00</td></tr>\n",
       "</tbody>\n",
       "</table>\n"
      ],
      "text/latex": [
       "A tibble: 6 × 15\n",
       "\\begin{tabular}{lllllllllllllll}\n",
       " origin & year & month & day & hour & temp & dewp & humid & wind\\_dir & wind\\_speed & wind\\_gust & precip & pressure & visib & time\\_hour\\\\\n",
       " <chr> & <int> & <int> & <int> & <int> & <dbl> & <dbl> & <dbl> & <dbl> & <dbl> & <dbl> & <dbl> & <dbl> & <dbl> & <dttm>\\\\\n",
       "\\hline\n",
       "\t EWR & 2013 & 1 & 1 & 1 & 39.02 & 26.06 & 59.37 & 270 & 10.35702 & NA & 0 & 1012.0 & 10 & 2013-01-01 01:00:00\\\\\n",
       "\t EWR & 2013 & 1 & 1 & 2 & 39.02 & 26.96 & 61.63 & 250 &  8.05546 & NA & 0 & 1012.3 & 10 & 2013-01-01 02:00:00\\\\\n",
       "\t EWR & 2013 & 1 & 1 & 3 & 39.02 & 28.04 & 64.43 & 240 & 11.50780 & NA & 0 & 1012.5 & 10 & 2013-01-01 03:00:00\\\\\n",
       "\t EWR & 2013 & 1 & 1 & 4 & 39.92 & 28.04 & 62.21 & 250 & 12.65858 & NA & 0 & 1012.2 & 10 & 2013-01-01 04:00:00\\\\\n",
       "\t EWR & 2013 & 1 & 1 & 5 & 39.02 & 28.04 & 64.43 & 260 & 12.65858 & NA & 0 & 1011.9 & 10 & 2013-01-01 05:00:00\\\\\n",
       "\t EWR & 2013 & 1 & 1 & 6 & 37.94 & 28.04 & 67.21 & 240 & 11.50780 & NA & 0 & 1012.4 & 10 & 2013-01-01 06:00:00\\\\\n",
       "\\end{tabular}\n"
      ],
      "text/markdown": [
       "\n",
       "A tibble: 6 × 15\n",
       "\n",
       "| origin &lt;chr&gt; | year &lt;int&gt; | month &lt;int&gt; | day &lt;int&gt; | hour &lt;int&gt; | temp &lt;dbl&gt; | dewp &lt;dbl&gt; | humid &lt;dbl&gt; | wind_dir &lt;dbl&gt; | wind_speed &lt;dbl&gt; | wind_gust &lt;dbl&gt; | precip &lt;dbl&gt; | pressure &lt;dbl&gt; | visib &lt;dbl&gt; | time_hour &lt;dttm&gt; |\n",
       "|---|---|---|---|---|---|---|---|---|---|---|---|---|---|---|\n",
       "| EWR | 2013 | 1 | 1 | 1 | 39.02 | 26.06 | 59.37 | 270 | 10.35702 | NA | 0 | 1012.0 | 10 | 2013-01-01 01:00:00 |\n",
       "| EWR | 2013 | 1 | 1 | 2 | 39.02 | 26.96 | 61.63 | 250 |  8.05546 | NA | 0 | 1012.3 | 10 | 2013-01-01 02:00:00 |\n",
       "| EWR | 2013 | 1 | 1 | 3 | 39.02 | 28.04 | 64.43 | 240 | 11.50780 | NA | 0 | 1012.5 | 10 | 2013-01-01 03:00:00 |\n",
       "| EWR | 2013 | 1 | 1 | 4 | 39.92 | 28.04 | 62.21 | 250 | 12.65858 | NA | 0 | 1012.2 | 10 | 2013-01-01 04:00:00 |\n",
       "| EWR | 2013 | 1 | 1 | 5 | 39.02 | 28.04 | 64.43 | 260 | 12.65858 | NA | 0 | 1011.9 | 10 | 2013-01-01 05:00:00 |\n",
       "| EWR | 2013 | 1 | 1 | 6 | 37.94 | 28.04 | 67.21 | 240 | 11.50780 | NA | 0 | 1012.4 | 10 | 2013-01-01 06:00:00 |\n",
       "\n"
      ],
      "text/plain": [
       "  origin year month day hour temp  dewp  humid wind_dir wind_speed wind_gust\n",
       "1 EWR    2013 1     1   1    39.02 26.06 59.37 270      10.35702   NA       \n",
       "2 EWR    2013 1     1   2    39.02 26.96 61.63 250       8.05546   NA       \n",
       "3 EWR    2013 1     1   3    39.02 28.04 64.43 240      11.50780   NA       \n",
       "4 EWR    2013 1     1   4    39.92 28.04 62.21 250      12.65858   NA       \n",
       "5 EWR    2013 1     1   5    39.02 28.04 64.43 260      12.65858   NA       \n",
       "6 EWR    2013 1     1   6    37.94 28.04 67.21 240      11.50780   NA       \n",
       "  precip pressure visib time_hour          \n",
       "1 0      1012.0   10    2013-01-01 01:00:00\n",
       "2 0      1012.3   10    2013-01-01 02:00:00\n",
       "3 0      1012.5   10    2013-01-01 03:00:00\n",
       "4 0      1012.2   10    2013-01-01 04:00:00\n",
       "5 0      1011.9   10    2013-01-01 05:00:00\n",
       "6 0      1012.4   10    2013-01-01 06:00:00"
      ]
     },
     "metadata": {},
     "output_type": "display_data"
    }
   ],
   "source": [
    "library('nycflights13')\n",
    "\n",
    "weather |> head()"
   ]
  },
  {
   "cell_type": "code",
   "execution_count": 5,
   "id": "fe4f846f-005c-4801-bf47-03f4ec5405f4",
   "metadata": {
    "slideshow": {
     "slide_type": "slide"
    }
   },
   "outputs": [],
   "source": [
    "weather |> write_csv('weather.csv')"
   ]
  },
  {
   "cell_type": "code",
   "execution_count": 6,
   "id": "81f40907-37c0-428d-bb52-276c47d5518f",
   "metadata": {},
   "outputs": [],
   "source": [
    "weather_from_file = read_csv('weather.csv', col_types = cols())"
   ]
  },
  {
   "cell_type": "code",
   "execution_count": 7,
   "id": "8f6cec53-e5a7-4c58-8afd-284b825aa394",
   "metadata": {
    "slideshow": {
     "slide_type": "slide"
    }
   },
   "outputs": [
    {
     "data": {
      "text/html": [
       "<style>\n",
       ".list-inline {list-style: none; margin:0; padding: 0}\n",
       ".list-inline>li {display: inline-block}\n",
       ".list-inline>li:not(:last-child)::after {content: \"\\00b7\"; padding: 0 .5ex}\n",
       "</style>\n",
       "<ol class=list-inline><li>'origin,year,month,day,hour,temp,dewp,humid,wind_dir,wind_speed,wind_gust,precip,pressure,visib,time_hour'</li><li>'EWR,2013,1,1,1,39.02,26.06,59.37,270,10.357019999999999,NA,0,1012,10,2013-01-01T06:00:00Z'</li><li>'EWR,2013,1,1,2,39.02,26.96,61.63,250,8.05546,NA,0,1012.3,10,2013-01-01T07:00:00Z'</li><li>'EWR,2013,1,1,3,39.02,28.04,64.43,240,11.5078,NA,0,1012.5,10,2013-01-01T08:00:00Z'</li><li>'EWR,2013,1,1,4,39.92,28.04,62.21,250,12.658579999999999,NA,0,1012.2,10,2013-01-01T09:00:00Z'</li><li>'EWR,2013,1,1,5,39.02,28.04,64.43,260,12.658579999999999,NA,0,1011.9,10,2013-01-01T10:00:00Z'</li><li>'EWR,2013,1,1,6,37.94,28.04,67.21,240,11.5078,NA,0,1012.4,10,2013-01-01T11:00:00Z'</li><li>'EWR,2013,1,1,7,39.02,28.04,64.43,240,14.960139999999999,NA,0,1012.2,10,2013-01-01T12:00:00Z'</li><li>'EWR,2013,1,1,8,39.92,28.04,62.21,250,10.357019999999999,NA,0,1012.2,10,2013-01-01T13:00:00Z'</li><li>'EWR,2013,1,1,9,39.92,28.04,62.21,260,14.960139999999999,NA,0,1012.7,10,2013-01-01T14:00:00Z'</li></ol>\n"
      ],
      "text/latex": [
       "\\begin{enumerate*}\n",
       "\\item 'origin,year,month,day,hour,temp,dewp,humid,wind\\_dir,wind\\_speed,wind\\_gust,precip,pressure,visib,time\\_hour'\n",
       "\\item 'EWR,2013,1,1,1,39.02,26.06,59.37,270,10.357019999999999,NA,0,1012,10,2013-01-01T06:00:00Z'\n",
       "\\item 'EWR,2013,1,1,2,39.02,26.96,61.63,250,8.05546,NA,0,1012.3,10,2013-01-01T07:00:00Z'\n",
       "\\item 'EWR,2013,1,1,3,39.02,28.04,64.43,240,11.5078,NA,0,1012.5,10,2013-01-01T08:00:00Z'\n",
       "\\item 'EWR,2013,1,1,4,39.92,28.04,62.21,250,12.658579999999999,NA,0,1012.2,10,2013-01-01T09:00:00Z'\n",
       "\\item 'EWR,2013,1,1,5,39.02,28.04,64.43,260,12.658579999999999,NA,0,1011.9,10,2013-01-01T10:00:00Z'\n",
       "\\item 'EWR,2013,1,1,6,37.94,28.04,67.21,240,11.5078,NA,0,1012.4,10,2013-01-01T11:00:00Z'\n",
       "\\item 'EWR,2013,1,1,7,39.02,28.04,64.43,240,14.960139999999999,NA,0,1012.2,10,2013-01-01T12:00:00Z'\n",
       "\\item 'EWR,2013,1,1,8,39.92,28.04,62.21,250,10.357019999999999,NA,0,1012.2,10,2013-01-01T13:00:00Z'\n",
       "\\item 'EWR,2013,1,1,9,39.92,28.04,62.21,260,14.960139999999999,NA,0,1012.7,10,2013-01-01T14:00:00Z'\n",
       "\\end{enumerate*}\n"
      ],
      "text/markdown": [
       "1. 'origin,year,month,day,hour,temp,dewp,humid,wind_dir,wind_speed,wind_gust,precip,pressure,visib,time_hour'\n",
       "2. 'EWR,2013,1,1,1,39.02,26.06,59.37,270,10.357019999999999,NA,0,1012,10,2013-01-01T06:00:00Z'\n",
       "3. 'EWR,2013,1,1,2,39.02,26.96,61.63,250,8.05546,NA,0,1012.3,10,2013-01-01T07:00:00Z'\n",
       "4. 'EWR,2013,1,1,3,39.02,28.04,64.43,240,11.5078,NA,0,1012.5,10,2013-01-01T08:00:00Z'\n",
       "5. 'EWR,2013,1,1,4,39.92,28.04,62.21,250,12.658579999999999,NA,0,1012.2,10,2013-01-01T09:00:00Z'\n",
       "6. 'EWR,2013,1,1,5,39.02,28.04,64.43,260,12.658579999999999,NA,0,1011.9,10,2013-01-01T10:00:00Z'\n",
       "7. 'EWR,2013,1,1,6,37.94,28.04,67.21,240,11.5078,NA,0,1012.4,10,2013-01-01T11:00:00Z'\n",
       "8. 'EWR,2013,1,1,7,39.02,28.04,64.43,240,14.960139999999999,NA,0,1012.2,10,2013-01-01T12:00:00Z'\n",
       "9. 'EWR,2013,1,1,8,39.92,28.04,62.21,250,10.357019999999999,NA,0,1012.2,10,2013-01-01T13:00:00Z'\n",
       "10. 'EWR,2013,1,1,9,39.92,28.04,62.21,260,14.960139999999999,NA,0,1012.7,10,2013-01-01T14:00:00Z'\n",
       "\n",
       "\n"
      ],
      "text/plain": [
       " [1] \"origin,year,month,day,hour,temp,dewp,humid,wind_dir,wind_speed,wind_gust,precip,pressure,visib,time_hour\"\n",
       " [2] \"EWR,2013,1,1,1,39.02,26.06,59.37,270,10.357019999999999,NA,0,1012,10,2013-01-01T06:00:00Z\"               \n",
       " [3] \"EWR,2013,1,1,2,39.02,26.96,61.63,250,8.05546,NA,0,1012.3,10,2013-01-01T07:00:00Z\"                        \n",
       " [4] \"EWR,2013,1,1,3,39.02,28.04,64.43,240,11.5078,NA,0,1012.5,10,2013-01-01T08:00:00Z\"                        \n",
       " [5] \"EWR,2013,1,1,4,39.92,28.04,62.21,250,12.658579999999999,NA,0,1012.2,10,2013-01-01T09:00:00Z\"             \n",
       " [6] \"EWR,2013,1,1,5,39.02,28.04,64.43,260,12.658579999999999,NA,0,1011.9,10,2013-01-01T10:00:00Z\"             \n",
       " [7] \"EWR,2013,1,1,6,37.94,28.04,67.21,240,11.5078,NA,0,1012.4,10,2013-01-01T11:00:00Z\"                        \n",
       " [8] \"EWR,2013,1,1,7,39.02,28.04,64.43,240,14.960139999999999,NA,0,1012.2,10,2013-01-01T12:00:00Z\"             \n",
       " [9] \"EWR,2013,1,1,8,39.92,28.04,62.21,250,10.357019999999999,NA,0,1012.2,10,2013-01-01T13:00:00Z\"             \n",
       "[10] \"EWR,2013,1,1,9,39.92,28.04,62.21,260,14.960139999999999,NA,0,1012.7,10,2013-01-01T14:00:00Z\"             "
      ]
     },
     "metadata": {},
     "output_type": "display_data"
    }
   ],
   "source": [
    "system(\"head weather.csv\", intern=TRUE)"
   ]
  },
  {
   "cell_type": "markdown",
   "id": "7252054e-6a2b-493e-bca2-e4a3147140fa",
   "metadata": {
    "slideshow": {
     "slide_type": "slide"
    }
   },
   "source": [
    "## Reading data directly from URL"
   ]
  },
  {
   "cell_type": "code",
   "execution_count": 8,
   "id": "fed0a8e3-f56f-451d-9688-95f7398fdd44",
   "metadata": {
    "slideshow": {
     "slide_type": "slide"
    }
   },
   "outputs": [],
   "source": [
    "# also works with read.csv\n",
    "\n",
    "marathon_df = read_csv(\n",
    "    'https://raw.githubusercontent.com/chuckpr/BIOS512/main/in-class-exercises/data/marathon.csv',\n",
    "    col_types = cols()\n",
    ")\n",
    "\n",
    "# marathon_df = read_csv(\n",
    "#     'https://raw.githubusercontent.com/chuckpr/BIOS512/main/in-class-exercises/data/marathon.csv',\n",
    "#     col_types = cols()\n",
    "# )"
   ]
  },
  {
   "cell_type": "code",
   "execution_count": 9,
   "id": "77b20861-cfa5-468c-be1d-f9c010045a22",
   "metadata": {
    "slideshow": {
     "slide_type": "slide"
    }
   },
   "outputs": [
    {
     "data": {
      "text/html": [
       "<table class=\"dataframe\">\n",
       "<caption>A tibble: 6 × 7</caption>\n",
       "<thead>\n",
       "\t<tr><th scope=col>year</th><th scope=col>name</th><th scope=col>country</th><th scope=col>time</th><th scope=col>race.time</th><th scope=col>MF</th><th scope=col>country.simple</th></tr>\n",
       "\t<tr><th scope=col>&lt;dbl&gt;</th><th scope=col>&lt;chr&gt;</th><th scope=col>&lt;chr&gt;</th><th scope=col>&lt;chr&gt;</th><th scope=col>&lt;dbl&gt;</th><th scope=col>&lt;chr&gt;</th><th scope=col>&lt;chr&gt;</th></tr>\n",
       "</thead>\n",
       "<tbody>\n",
       "\t<tr><td>2019</td><td>Lawrence Cherono          </td><td>Kenya        </td><td>2H 7M 57S </td><td>2.132500</td><td>Men's</td><td>Kenya        </td></tr>\n",
       "\t<tr><td>2018</td><td>Yuki Kawauchi             </td><td>Japan        </td><td>2H 15M 58S</td><td>2.266111</td><td>Men's</td><td>Japan        </td></tr>\n",
       "\t<tr><td>2017</td><td>Geoffrey Kirui            </td><td>Kenya        </td><td>2H 9M 37S </td><td>2.160278</td><td>Men's</td><td>Kenya        </td></tr>\n",
       "\t<tr><td>2016</td><td>Lemi Berhanu              </td><td>Ethiopia     </td><td>2H 12M 45S</td><td>2.212500</td><td>Men's</td><td>Ethiopia     </td></tr>\n",
       "\t<tr><td>2015</td><td>Lelisa Desisa             </td><td>Ethiopia     </td><td>2H 9M 17S </td><td>2.154722</td><td>Men's</td><td>Ethiopia     </td></tr>\n",
       "\t<tr><td>2014</td><td>Mebrahtom \"Meb\" Keflezighi</td><td>United States</td><td>2H 8M 37S </td><td>2.143611</td><td>Men's</td><td>United States</td></tr>\n",
       "</tbody>\n",
       "</table>\n"
      ],
      "text/latex": [
       "A tibble: 6 × 7\n",
       "\\begin{tabular}{lllllll}\n",
       " year & name & country & time & race.time & MF & country.simple\\\\\n",
       " <dbl> & <chr> & <chr> & <chr> & <dbl> & <chr> & <chr>\\\\\n",
       "\\hline\n",
       "\t 2019 & Lawrence Cherono           & Kenya         & 2H 7M 57S  & 2.132500 & Men's & Kenya        \\\\\n",
       "\t 2018 & Yuki Kawauchi              & Japan         & 2H 15M 58S & 2.266111 & Men's & Japan        \\\\\n",
       "\t 2017 & Geoffrey Kirui             & Kenya         & 2H 9M 37S  & 2.160278 & Men's & Kenya        \\\\\n",
       "\t 2016 & Lemi Berhanu               & Ethiopia      & 2H 12M 45S & 2.212500 & Men's & Ethiopia     \\\\\n",
       "\t 2015 & Lelisa Desisa              & Ethiopia      & 2H 9M 17S  & 2.154722 & Men's & Ethiopia     \\\\\n",
       "\t 2014 & Mebrahtom \"Meb\" Keflezighi & United States & 2H 8M 37S  & 2.143611 & Men's & United States\\\\\n",
       "\\end{tabular}\n"
      ],
      "text/markdown": [
       "\n",
       "A tibble: 6 × 7\n",
       "\n",
       "| year &lt;dbl&gt; | name &lt;chr&gt; | country &lt;chr&gt; | time &lt;chr&gt; | race.time &lt;dbl&gt; | MF &lt;chr&gt; | country.simple &lt;chr&gt; |\n",
       "|---|---|---|---|---|---|---|\n",
       "| 2019 | Lawrence Cherono           | Kenya         | 2H 7M 57S  | 2.132500 | Men's | Kenya         |\n",
       "| 2018 | Yuki Kawauchi              | Japan         | 2H 15M 58S | 2.266111 | Men's | Japan         |\n",
       "| 2017 | Geoffrey Kirui             | Kenya         | 2H 9M 37S  | 2.160278 | Men's | Kenya         |\n",
       "| 2016 | Lemi Berhanu               | Ethiopia      | 2H 12M 45S | 2.212500 | Men's | Ethiopia      |\n",
       "| 2015 | Lelisa Desisa              | Ethiopia      | 2H 9M 17S  | 2.154722 | Men's | Ethiopia      |\n",
       "| 2014 | Mebrahtom \"Meb\" Keflezighi | United States | 2H 8M 37S  | 2.143611 | Men's | United States |\n",
       "\n"
      ],
      "text/plain": [
       "  year name                       country       time       race.time MF   \n",
       "1 2019 Lawrence Cherono           Kenya         2H 7M 57S  2.132500  Men's\n",
       "2 2018 Yuki Kawauchi              Japan         2H 15M 58S 2.266111  Men's\n",
       "3 2017 Geoffrey Kirui             Kenya         2H 9M 37S  2.160278  Men's\n",
       "4 2016 Lemi Berhanu               Ethiopia      2H 12M 45S 2.212500  Men's\n",
       "5 2015 Lelisa Desisa              Ethiopia      2H 9M 17S  2.154722  Men's\n",
       "6 2014 Mebrahtom \"Meb\" Keflezighi United States 2H 8M 37S  2.143611  Men's\n",
       "  country.simple\n",
       "1 Kenya         \n",
       "2 Japan         \n",
       "3 Kenya         \n",
       "4 Ethiopia      \n",
       "5 Ethiopia      \n",
       "6 United States "
      ]
     },
     "metadata": {},
     "output_type": "display_data"
    }
   ],
   "source": [
    "marathon_df |> head() # try with print"
   ]
  },
  {
   "cell_type": "code",
   "execution_count": 10,
   "id": "91289e9f-f821-4bf3-b180-b3291b92f2c1",
   "metadata": {
    "slideshow": {
     "slide_type": "slide"
    }
   },
   "outputs": [],
   "source": [
    "# marathon_df |> print()"
   ]
  },
  {
   "cell_type": "code",
   "execution_count": 11,
   "id": "6ad7b2cf-08f7-4c19-afab-76d7e2f3b67e",
   "metadata": {},
   "outputs": [
    {
     "name": "stderr",
     "output_type": "stream",
     "text": [
      "\u001b[1m\u001b[1mRows: \u001b[1m\u001b[22m\u001b[34m\u001b[34m171\u001b[34m\u001b[39m \u001b[1m\u001b[1mColumns: \u001b[1m\u001b[22m\u001b[34m\u001b[34m7\u001b[34m\u001b[39m\n",
      "\n",
      "\u001b[36m──\u001b[39m \u001b[1m\u001b[1mColumn specification\u001b[1m\u001b[22m \u001b[36m─────────────────────────────────────────────────────────────────────────────────────────────────────────────────────────────\u001b[39m\n",
      "\u001b[1mDelimiter:\u001b[22m \",\"\n",
      "\u001b[31mchr\u001b[39m (5): name, country, time, MF, country.simple\n",
      "\u001b[32mdbl\u001b[39m (2): year, race.time\n",
      "\n",
      "\n",
      "\u001b[36mℹ\u001b[39m Use \u001b[30m\u001b[47m\u001b[30m\u001b[47m`spec()`\u001b[47m\u001b[30m\u001b[49m\u001b[39m to retrieve the full column specification for this data.\n",
      "\u001b[36mℹ\u001b[39m Specify the column types or set \u001b[30m\u001b[47m\u001b[30m\u001b[47m`show_col_types = FALSE`\u001b[47m\u001b[30m\u001b[49m\u001b[39m to quiet this message.\n",
      "\n"
     ]
    },
    {
     "data": {
      "text/html": [
       "<table class=\"dataframe\">\n",
       "<caption>A tibble: 6 × 7</caption>\n",
       "<thead>\n",
       "\t<tr><th scope=col>year</th><th scope=col>name</th><th scope=col>country</th><th scope=col>time</th><th scope=col>race.time</th><th scope=col>MF</th><th scope=col>country.simple</th></tr>\n",
       "\t<tr><th scope=col>&lt;dbl&gt;</th><th scope=col>&lt;chr&gt;</th><th scope=col>&lt;chr&gt;</th><th scope=col>&lt;chr&gt;</th><th scope=col>&lt;dbl&gt;</th><th scope=col>&lt;chr&gt;</th><th scope=col>&lt;chr&gt;</th></tr>\n",
       "</thead>\n",
       "<tbody>\n",
       "\t<tr><td>2019</td><td>Lawrence Cherono          </td><td>Kenya        </td><td>2H 7M 57S </td><td>2.132500</td><td>Men's</td><td>Kenya        </td></tr>\n",
       "\t<tr><td>2018</td><td>Yuki Kawauchi             </td><td>Japan        </td><td>2H 15M 58S</td><td>2.266111</td><td>Men's</td><td>Japan        </td></tr>\n",
       "\t<tr><td>2017</td><td>Geoffrey Kirui            </td><td>Kenya        </td><td>2H 9M 37S </td><td>2.160278</td><td>Men's</td><td>Kenya        </td></tr>\n",
       "\t<tr><td>2016</td><td>Lemi Berhanu              </td><td>Ethiopia     </td><td>2H 12M 45S</td><td>2.212500</td><td>Men's</td><td>Ethiopia     </td></tr>\n",
       "\t<tr><td>2015</td><td>Lelisa Desisa             </td><td>Ethiopia     </td><td>2H 9M 17S </td><td>2.154722</td><td>Men's</td><td>Ethiopia     </td></tr>\n",
       "\t<tr><td>2014</td><td>Mebrahtom \"Meb\" Keflezighi</td><td>United States</td><td>2H 8M 37S </td><td>2.143611</td><td>Men's</td><td>United States</td></tr>\n",
       "</tbody>\n",
       "</table>\n"
      ],
      "text/latex": [
       "A tibble: 6 × 7\n",
       "\\begin{tabular}{lllllll}\n",
       " year & name & country & time & race.time & MF & country.simple\\\\\n",
       " <dbl> & <chr> & <chr> & <chr> & <dbl> & <chr> & <chr>\\\\\n",
       "\\hline\n",
       "\t 2019 & Lawrence Cherono           & Kenya         & 2H 7M 57S  & 2.132500 & Men's & Kenya        \\\\\n",
       "\t 2018 & Yuki Kawauchi              & Japan         & 2H 15M 58S & 2.266111 & Men's & Japan        \\\\\n",
       "\t 2017 & Geoffrey Kirui             & Kenya         & 2H 9M 37S  & 2.160278 & Men's & Kenya        \\\\\n",
       "\t 2016 & Lemi Berhanu               & Ethiopia      & 2H 12M 45S & 2.212500 & Men's & Ethiopia     \\\\\n",
       "\t 2015 & Lelisa Desisa              & Ethiopia      & 2H 9M 17S  & 2.154722 & Men's & Ethiopia     \\\\\n",
       "\t 2014 & Mebrahtom \"Meb\" Keflezighi & United States & 2H 8M 37S  & 2.143611 & Men's & United States\\\\\n",
       "\\end{tabular}\n"
      ],
      "text/markdown": [
       "\n",
       "A tibble: 6 × 7\n",
       "\n",
       "| year &lt;dbl&gt; | name &lt;chr&gt; | country &lt;chr&gt; | time &lt;chr&gt; | race.time &lt;dbl&gt; | MF &lt;chr&gt; | country.simple &lt;chr&gt; |\n",
       "|---|---|---|---|---|---|---|\n",
       "| 2019 | Lawrence Cherono           | Kenya         | 2H 7M 57S  | 2.132500 | Men's | Kenya         |\n",
       "| 2018 | Yuki Kawauchi              | Japan         | 2H 15M 58S | 2.266111 | Men's | Japan         |\n",
       "| 2017 | Geoffrey Kirui             | Kenya         | 2H 9M 37S  | 2.160278 | Men's | Kenya         |\n",
       "| 2016 | Lemi Berhanu               | Ethiopia      | 2H 12M 45S | 2.212500 | Men's | Ethiopia      |\n",
       "| 2015 | Lelisa Desisa              | Ethiopia      | 2H 9M 17S  | 2.154722 | Men's | Ethiopia      |\n",
       "| 2014 | Mebrahtom \"Meb\" Keflezighi | United States | 2H 8M 37S  | 2.143611 | Men's | United States |\n",
       "\n"
      ],
      "text/plain": [
       "  year name                       country       time       race.time MF   \n",
       "1 2019 Lawrence Cherono           Kenya         2H 7M 57S  2.132500  Men's\n",
       "2 2018 Yuki Kawauchi              Japan         2H 15M 58S 2.266111  Men's\n",
       "3 2017 Geoffrey Kirui             Kenya         2H 9M 37S  2.160278  Men's\n",
       "4 2016 Lemi Berhanu               Ethiopia      2H 12M 45S 2.212500  Men's\n",
       "5 2015 Lelisa Desisa              Ethiopia      2H 9M 17S  2.154722  Men's\n",
       "6 2014 Mebrahtom \"Meb\" Keflezighi United States 2H 8M 37S  2.143611  Men's\n",
       "  country.simple\n",
       "1 Kenya         \n",
       "2 Japan         \n",
       "3 Kenya         \n",
       "4 Ethiopia      \n",
       "5 Ethiopia      \n",
       "6 United States "
      ]
     },
     "metadata": {},
     "output_type": "display_data"
    }
   ],
   "source": [
    "read_csv('https://raw.githubusercontent.com/chuckpr/BIOS512/main/in-class-exercises/data/marathon.csv') |>\n",
    "    head()\n",
    "\n",
    "# col_types = cols()"
   ]
  },
  {
   "cell_type": "code",
   "execution_count": 13,
   "id": "9f4f407d-981c-41b8-846b-03ff65d2b26e",
   "metadata": {},
   "outputs": [
    {
     "name": "stderr",
     "output_type": "stream",
     "text": [
      "\u001b[1m\u001b[1mRows: \u001b[1m\u001b[22m\u001b[34m\u001b[34m2266\u001b[34m\u001b[39m \u001b[1m\u001b[1mColumns: \u001b[1m\u001b[22m\u001b[34m\u001b[34m7\u001b[34m\u001b[39m\n",
      "\n",
      "\u001b[36m──\u001b[39m \u001b[1m\u001b[1mColumn specification\u001b[1m\u001b[22m \u001b[36m─────────────────────────────────────────────────────────────────────────────────────────────────────────────────────────────\u001b[39m\n",
      "\u001b[1mDelimiter:\u001b[22m \",\"\n",
      "\u001b[31mchr\u001b[39m  (3): titleId, title, genres\n",
      "\u001b[32mdbl\u001b[39m  (3): seasonNumber, av_rating, share\n",
      "\u001b[34mdate\u001b[39m (1): date\n",
      "\n",
      "\n",
      "\u001b[36mℹ\u001b[39m Use \u001b[30m\u001b[47m\u001b[30m\u001b[47m`spec()`\u001b[47m\u001b[30m\u001b[49m\u001b[39m to retrieve the full column specification for this data.\n",
      "\u001b[36mℹ\u001b[39m Specify the column types or set \u001b[30m\u001b[47m\u001b[30m\u001b[47m`show_col_types = FALSE`\u001b[47m\u001b[30m\u001b[49m\u001b[39m to quiet this message.\n",
      "\n"
     ]
    },
    {
     "data": {
      "text/html": [
       "<table class=\"dataframe\">\n",
       "<caption>A tibble: 6 × 7</caption>\n",
       "<thead>\n",
       "\t<tr><th scope=col>titleId</th><th scope=col>seasonNumber</th><th scope=col>title</th><th scope=col>date</th><th scope=col>av_rating</th><th scope=col>share</th><th scope=col>genres</th></tr>\n",
       "\t<tr><th scope=col>&lt;chr&gt;</th><th scope=col>&lt;dbl&gt;</th><th scope=col>&lt;chr&gt;</th><th scope=col>&lt;date&gt;</th><th scope=col>&lt;dbl&gt;</th><th scope=col>&lt;dbl&gt;</th><th scope=col>&lt;chr&gt;</th></tr>\n",
       "</thead>\n",
       "<tbody>\n",
       "\t<tr><td>tt2879552</td><td>1</td><td>11.22.63      </td><td>2016-03-10</td><td>8.4890</td><td>0.51</td><td>Drama,Mystery,Sci-Fi   </td></tr>\n",
       "\t<tr><td>tt3148266</td><td>1</td><td>12 Monkeys    </td><td>2015-02-27</td><td>8.3407</td><td>0.46</td><td>Adventure,Drama,Mystery</td></tr>\n",
       "\t<tr><td>tt3148266</td><td>2</td><td>12 Monkeys    </td><td>2016-05-30</td><td>8.8196</td><td>0.25</td><td>Adventure,Drama,Mystery</td></tr>\n",
       "\t<tr><td>tt3148266</td><td>3</td><td>12 Monkeys    </td><td>2017-05-19</td><td>9.0369</td><td>0.19</td><td>Adventure,Drama,Mystery</td></tr>\n",
       "\t<tr><td>tt3148266</td><td>4</td><td>12 Monkeys    </td><td>2018-06-26</td><td>9.1363</td><td>0.38</td><td>Adventure,Drama,Mystery</td></tr>\n",
       "\t<tr><td>tt1837492</td><td>1</td><td>13 Reasons Why</td><td>2017-03-31</td><td>8.4370</td><td>2.38</td><td>Drama,Mystery          </td></tr>\n",
       "</tbody>\n",
       "</table>\n"
      ],
      "text/latex": [
       "A tibble: 6 × 7\n",
       "\\begin{tabular}{lllllll}\n",
       " titleId & seasonNumber & title & date & av\\_rating & share & genres\\\\\n",
       " <chr> & <dbl> & <chr> & <date> & <dbl> & <dbl> & <chr>\\\\\n",
       "\\hline\n",
       "\t tt2879552 & 1 & 11.22.63       & 2016-03-10 & 8.4890 & 0.51 & Drama,Mystery,Sci-Fi   \\\\\n",
       "\t tt3148266 & 1 & 12 Monkeys     & 2015-02-27 & 8.3407 & 0.46 & Adventure,Drama,Mystery\\\\\n",
       "\t tt3148266 & 2 & 12 Monkeys     & 2016-05-30 & 8.8196 & 0.25 & Adventure,Drama,Mystery\\\\\n",
       "\t tt3148266 & 3 & 12 Monkeys     & 2017-05-19 & 9.0369 & 0.19 & Adventure,Drama,Mystery\\\\\n",
       "\t tt3148266 & 4 & 12 Monkeys     & 2018-06-26 & 9.1363 & 0.38 & Adventure,Drama,Mystery\\\\\n",
       "\t tt1837492 & 1 & 13 Reasons Why & 2017-03-31 & 8.4370 & 2.38 & Drama,Mystery          \\\\\n",
       "\\end{tabular}\n"
      ],
      "text/markdown": [
       "\n",
       "A tibble: 6 × 7\n",
       "\n",
       "| titleId &lt;chr&gt; | seasonNumber &lt;dbl&gt; | title &lt;chr&gt; | date &lt;date&gt; | av_rating &lt;dbl&gt; | share &lt;dbl&gt; | genres &lt;chr&gt; |\n",
       "|---|---|---|---|---|---|---|\n",
       "| tt2879552 | 1 | 11.22.63       | 2016-03-10 | 8.4890 | 0.51 | Drama,Mystery,Sci-Fi    |\n",
       "| tt3148266 | 1 | 12 Monkeys     | 2015-02-27 | 8.3407 | 0.46 | Adventure,Drama,Mystery |\n",
       "| tt3148266 | 2 | 12 Monkeys     | 2016-05-30 | 8.8196 | 0.25 | Adventure,Drama,Mystery |\n",
       "| tt3148266 | 3 | 12 Monkeys     | 2017-05-19 | 9.0369 | 0.19 | Adventure,Drama,Mystery |\n",
       "| tt3148266 | 4 | 12 Monkeys     | 2018-06-26 | 9.1363 | 0.38 | Adventure,Drama,Mystery |\n",
       "| tt1837492 | 1 | 13 Reasons Why | 2017-03-31 | 8.4370 | 2.38 | Drama,Mystery           |\n",
       "\n"
      ],
      "text/plain": [
       "  titleId   seasonNumber title          date       av_rating share\n",
       "1 tt2879552 1            11.22.63       2016-03-10 8.4890    0.51 \n",
       "2 tt3148266 1            12 Monkeys     2015-02-27 8.3407    0.46 \n",
       "3 tt3148266 2            12 Monkeys     2016-05-30 8.8196    0.25 \n",
       "4 tt3148266 3            12 Monkeys     2017-05-19 9.0369    0.19 \n",
       "5 tt3148266 4            12 Monkeys     2018-06-26 9.1363    0.38 \n",
       "6 tt1837492 1            13 Reasons Why 2017-03-31 8.4370    2.38 \n",
       "  genres                 \n",
       "1 Drama,Mystery,Sci-Fi   \n",
       "2 Adventure,Drama,Mystery\n",
       "3 Adventure,Drama,Mystery\n",
       "4 Adventure,Drama,Mystery\n",
       "5 Adventure,Drama,Mystery\n",
       "6 Drama,Mystery          "
      ]
     },
     "metadata": {},
     "output_type": "display_data"
    }
   ],
   "source": [
    "read_csv('https://github.com/rfordatascience/tidytuesday/raw/master/data/2019/2019-01-08/IMDb_Economist_tv_ratings.csv') |>\n",
    "    head()"
   ]
  }
 ],
 "metadata": {
  "kernelspec": {
   "display_name": "R",
   "language": "R",
   "name": "ir"
  },
  "language_info": {
   "codemirror_mode": "r",
   "file_extension": ".r",
   "mimetype": "text/x-r-source",
   "name": "R",
   "pygments_lexer": "r",
   "version": "4.1.1"
  }
 },
 "nbformat": 4,
 "nbformat_minor": 5
}
