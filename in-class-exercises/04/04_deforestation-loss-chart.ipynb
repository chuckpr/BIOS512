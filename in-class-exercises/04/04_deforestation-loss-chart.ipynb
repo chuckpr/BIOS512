{
 "cells": [
  {
   "cell_type": "markdown",
   "id": "22423e02-369b-45c7-b1a9-915489d9f195",
   "metadata": {},
   "source": [
    "Recently, the Washington Post published an [article](https://www.washingtonpost.com/world/interactive/2022/brazil-amazon-deforestation-enforcement/) about deforestation of the Amazon Rainforest in Brazil."
   ]
  },
  {
   "cell_type": "markdown",
   "id": "978a54b9-e5b1-4fe7-b69b-f237ec40b15c",
   "metadata": {},
   "source": [
    "We can plot Brazil treecover loss each year from data provided by [Global Forest Watch](https://www.globalforestwatch.org/about/)."
   ]
  },
  {
   "cell_type": "markdown",
   "id": "60be00a4-af2d-4382-8ac4-f59e09ce55b0",
   "metadata": {},
   "source": [
    "Load the `TidyVerse` in the cell below ⬇️ "
   ]
  },
  {
   "cell_type": "code",
   "execution_count": null,
   "id": "85a0b583-edf9-4fca-bf25-1d919bf2f5bb",
   "metadata": {},
   "outputs": [],
   "source": []
  },
  {
   "cell_type": "markdown",
   "id": "dd50b768-64d5-48a8-bc0f-fa07961888ea",
   "metadata": {},
   "source": [
    "Execute the following cell to read in the data for this exercise."
   ]
  },
  {
   "cell_type": "code",
   "execution_count": 7,
   "id": "8a6e1321-3172-4321-bc0b-0c8079d6f3d4",
   "metadata": {},
   "outputs": [],
   "source": [
    "# treecover_loss = read_csv('treecover_loss__ha.csv', \n",
    "#                           col_types = cols(year = col_date('%Y')))"
   ]
  },
  {
   "cell_type": "markdown",
   "id": "50ab1527-c2bc-4922-b1a0-59d485bceb8e",
   "metadata": {},
   "source": [
    "Preview the table."
   ]
  },
  {
   "cell_type": "code",
   "execution_count": null,
   "id": "9698ba01-efdb-4b24-a097-75c8642e9d2c",
   "metadata": {},
   "outputs": [],
   "source": []
  },
  {
   "cell_type": "markdown",
   "id": "b4bf3263-271c-4373-8611-912fdd6f22e8",
   "metadata": {},
   "source": [
    "Make a line chart with **year on the x-axis** and **treecover loss on the y-axis**."
   ]
  },
  {
   "cell_type": "code",
   "execution_count": null,
   "id": "53710bc0-010d-45aa-80f0-f427ec933c97",
   "metadata": {},
   "outputs": [],
   "source": []
  },
  {
   "cell_type": "markdown",
   "id": "20f8adbb-aa1a-4cc1-9550-69a031bec0cd",
   "metadata": {},
   "source": [
    "Copy the cell above and paste it below ⬇️. Now, in the copied cell, switch `geom_line` with `geom_col` and execute the code. **What happens?** **How does `geom_col` differ from `geom_bar`?**"
   ]
  },
  {
   "cell_type": "code",
   "execution_count": null,
   "id": "318c5a2f-c313-45e2-9fd6-87d3fca70c07",
   "metadata": {},
   "outputs": [],
   "source": [
    "# swap geom_line with geom_col\n",
    "\n"
   ]
  }
 ],
 "metadata": {
  "kernelspec": {
   "display_name": "R",
   "language": "R",
   "name": "ir"
  },
  "language_info": {
   "codemirror_mode": "r",
   "file_extension": ".r",
   "mimetype": "text/x-r-source",
   "name": "R",
   "pygments_lexer": "r",
   "version": "4.1.3"
  }
 },
 "nbformat": 4,
 "nbformat_minor": 5
}
