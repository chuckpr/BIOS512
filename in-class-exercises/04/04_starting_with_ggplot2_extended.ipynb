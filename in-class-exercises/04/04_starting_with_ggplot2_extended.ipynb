{
 "cells": [
  {
   "cell_type": "markdown",
   "id": "86cf000d-6dbd-4f92-84ff-c84c66b5a1fb",
   "metadata": {},
   "source": [
    "Load the `TidyVerse` package."
   ]
  },
  {
   "cell_type": "code",
   "execution_count": null,
   "id": "c1156bf4-3fa0-424e-b207-f0ae7078c971",
   "metadata": {},
   "outputs": [],
   "source": [
    "# put the libray function call in this cell...\n",
    "\n"
   ]
  },
  {
   "cell_type": "markdown",
   "id": "0bada53e-de35-46bc-8e2b-82f74af6972a",
   "metadata": {},
   "source": [
    "Let's make a line chart 📈."
   ]
  },
  {
   "cell_type": "markdown",
   "id": "b54c2688-ea5b-4a90-91f3-c55f92a1b165",
   "metadata": {},
   "source": [
    "We'll use the `economics` data set. Use the `head` function to preview the data below ↓."
   ]
  },
  {
   "cell_type": "code",
   "execution_count": null,
   "id": "86031fc3-4f70-4e0f-beb5-ca4216f40bea",
   "metadata": {},
   "outputs": [],
   "source": [
    "\n"
   ]
  },
  {
   "cell_type": "markdown",
   "id": "e94eb605-3c3f-4963-a26e-1a40410074e1",
   "metadata": {},
   "source": [
    "Line charts make use of the line `geom` function. Can you guess the name of this function?\n",
    "\n",
    "Put your cursor after `geom_` in the cell below and press the `Tab`key . What happens?"
   ]
  },
  {
   "cell_type": "code",
   "execution_count": null,
   "id": "dda559c4-b9a8-4625-9780-ce16da41f3e3",
   "metadata": {},
   "outputs": [],
   "source": [
    "geom_"
   ]
  },
  {
   "cell_type": "markdown",
   "id": "75a79e72-3e13-4444-bc44-020304caf649",
   "metadata": {},
   "source": [
    "Now that you've seen all the available geoms, use the line `geom` to make a line chart from the `economics` data set with **`unemploy` on the  y-axis** and **`date` on the x-axis.** "
   ]
  },
  {
   "cell_type": "code",
   "execution_count": null,
   "id": "8150eaaa-231c-44b4-a9d7-c6c3ccd60e6d",
   "metadata": {},
   "outputs": [],
   "source": [
    "# chart code goes here...\n",
    "\n"
   ]
  }
 ],
 "metadata": {
  "kernelspec": {
   "display_name": "R",
   "language": "R",
   "name": "ir"
  },
  "language_info": {
   "codemirror_mode": "r",
   "file_extension": ".r",
   "mimetype": "text/x-r-source",
   "name": "R",
   "pygments_lexer": "r",
   "version": "4.1.3"
  }
 },
 "nbformat": 4,
 "nbformat_minor": 5
}
