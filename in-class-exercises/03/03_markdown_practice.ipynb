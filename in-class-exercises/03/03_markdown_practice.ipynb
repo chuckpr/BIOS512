{
 "cells": [
  {
   "cell_type": "markdown",
   "metadata": {},
   "source": [
    "1. navigate to the Jupyter Lab launcher.\n",
    "1. launch a markdown file\n",
    "1. preview your markdown file with a split screen\n",
    "1. experiment with the following markdown elements in your document:\n",
    "  - headings and subheadings\n",
    "  - lists, bulleted and numbered"
   ]
  },
  {
   "cell_type": "markdown",
   "metadata": {},
   "source": [
    "5. A `blockquote` is a way to add emphasis and inset a block of text. The syntax for blockquotes is desribed [here](https://daringfireball.net/projects/markdown/syntax#blockquote). Add a `blockquote` to your document."
   ]
  },
  {
   "cell_type": "markdown",
   "metadata": {},
   "source": [
    "6. Images and links have similar syntax, [image syntax](https://daringfireball.net/projects/markdown/syntax#img) [link syntax](https://daringfireball.net/projects/markdown/syntax#link). Add an image and link to your document.  \n",
    "(*Hint: you can add images from URLs -- right click on an image on the web and selecct `copy image address` to get an image's URL*)"
   ]
  },
  {
   "cell_type": "markdown",
   "metadata": {},
   "source": [
    "7. Code formatting is important for data scientists and often presented. The syntax for code formatting is described [here](https://github.com/adam-p/markdown-here/wiki/Markdown-Cheatsheet#code-and-syntax-highlighting). Add some code blocks to your markdown document. How does the highlighting change if you switch the `language` value for your code block?"
   ]
  }
 ],
 "metadata": {
  "kernelspec": {
   "display_name": "R",
   "language": "R",
   "name": "ir"
  },
  "language_info": {
   "codemirror_mode": "r",
   "file_extension": ".r",
   "mimetype": "text/x-r-source",
   "name": "R",
   "pygments_lexer": "r",
   "version": "4.2.2"
  }
 },
 "nbformat": 4,
 "nbformat_minor": 4
}
