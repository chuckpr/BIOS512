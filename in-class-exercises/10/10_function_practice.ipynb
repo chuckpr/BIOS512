{
 "cells": [
  {
   "cell_type": "markdown",
   "id": "95a45cfe-35ec-405c-91c4-04cb67abb0e0",
   "metadata": {},
   "source": [
    "Load the libraries below."
   ]
  },
  {
   "cell_type": "code",
   "execution_count": 1,
   "id": "0ffce67e-b70e-418b-b761-ed0f4d0bf23b",
   "metadata": {},
   "outputs": [],
   "source": [
    "# library(\"tidyverse\")"
   ]
  },
  {
   "cell_type": "markdown",
   "id": "925a4169-5f9d-44c3-a2ec-bb27152fb4b4",
   "metadata": {},
   "source": [
    "This function `get_data` will get the new case counts over time from Utah.  "
   ]
  },
  {
   "cell_type": "code",
   "execution_count": 20,
   "id": "e5c4cf8e-cea8-46be-ab2b-9a98375f922c",
   "metadata": {},
   "outputs": [],
   "source": [
    "get_data = function() {\n",
    "    \n",
    "    state = str_to_lower(\"UT\") # two letter state code in lower case\n",
    "    api_endpoint = \"https://api.covidtracking.com/v1/states\"\n",
    "\n",
    "    csv_url = glue::glue('{api_endpoint}/{state}/daily.csv')\n",
    "\n",
    "    # Can you make sense of what's happening here?👇\n",
    "    read_csv(csv_url, col_types = cols(date = col_date('%Y%m%d')))\n",
    "    \n",
    "}"
   ]
  },
  {
   "cell_type": "markdown",
   "id": "7537c6b6-ac82-420a-9f33-34709f533c09",
   "metadata": {},
   "source": [
    "Adjust the function above to take a state code as an argument and to set the `state` variable inside the function reflect the value of the argument."
   ]
  },
  {
   "cell_type": "markdown",
   "id": "a3575ca0-21c1-42fd-b20b-10dbc5c84454",
   "metadata": {},
   "source": [
    "Hint: here is an example of a function that just takes an argument called `state_code` and returns the value of the `state` variable."
   ]
  },
  {
   "cell_type": "markdown",
   "id": "8a960584-1b8f-44c4-8597-63e1ca42048c",
   "metadata": {},
   "source": [
    "```R\n",
    "state_code_function = function(state_code) {\n",
    "    \n",
    "    state = state_code\n",
    "    \n",
    "    return(state)\n",
    "    \n",
    "}\n",
    "```"
   ]
  },
  {
   "cell_type": "markdown",
   "id": "561adaab-0caf-4585-88b0-b67a93031b5f",
   "metadata": {},
   "source": [
    "Use your function to plot positive cases over time for any state."
   ]
  },
  {
   "cell_type": "code",
   "execution_count": null,
   "id": "79cf7d14-5450-4400-b755-c5622ded63a9",
   "metadata": {},
   "outputs": [],
   "source": []
  },
  {
   "cell_type": "markdown",
   "id": "ab042944-3fb8-4b1f-a16e-a2bcf6843a1b",
   "metadata": {},
   "source": [
    "Here's a snippet to show how this workflow should work:\n",
    "\n",
    "```r\n",
    "options(repr.plot.width=7, repr.plot.height=3, repr.plot.res=300)\n",
    "\n",
    "df = get_data(\"NC\")\n",
    "\n",
    "p = ggplot(df, aes(x = date, y = positive)) + geom_col(width = 1)\n",
    "\n",
    "p\n",
    "```"
   ]
  },
  {
   "cell_type": "markdown",
   "id": "fef0ae5a-528b-4662-af26-299e40737fac",
   "metadata": {},
   "source": [
    "## 🛑 STOP HERE 🛑"
   ]
  },
  {
   "cell_type": "markdown",
   "id": "5a96018e-eff8-4552-8433-48d55879aa60",
   "metadata": {},
   "source": [
    "If you had data for multiple states in one table, what column would you use to \"facet\" your data by state?"
   ]
  },
  {
   "cell_type": "markdown",
   "id": "0d5c8f50-75e0-49a4-a249-d8ddf049f978",
   "metadata": {},
   "source": [
    "Using the function you built above, capture the case data for two states in two separate tables.\n",
    "\n",
    "E.g. for each state do something like this:\n",
    "\n",
    "```R\n",
    "df_UT = get_data(\"UT\")\n",
    "\n",
    "```"
   ]
  },
  {
   "cell_type": "code",
   "execution_count": null,
   "id": "30529a79-7800-4caf-adfb-4cf4a2b772f7",
   "metadata": {},
   "outputs": [],
   "source": []
  },
  {
   "cell_type": "markdown",
   "id": "7b79a98e-4bb1-44ba-b234-190f349e4614",
   "metadata": {},
   "source": [
    "We can concatenate these two tables using the `rbind` function. Read the help documentation for `rbind` to see how it works, then concatenate your two tables. "
   ]
  },
  {
   "cell_type": "code",
   "execution_count": null,
   "id": "9b7079f3-c1ce-438b-b644-6a97d8d94d7a",
   "metadata": {},
   "outputs": [],
   "source": []
  },
  {
   "cell_type": "markdown",
   "id": "bae65ffb-bc38-440f-b48d-874af2bf6d90",
   "metadata": {},
   "source": [
    "Use `geom_bar` to confirm that you indeed have two states in your concatenated table."
   ]
  },
  {
   "cell_type": "code",
   "execution_count": null,
   "id": "20b8bc34-3225-4dfb-a46e-add056188cbf",
   "metadata": {},
   "outputs": [],
   "source": []
  },
  {
   "cell_type": "markdown",
   "id": "65e92820-57cf-4611-bbe9-1cf356dfddf1",
   "metadata": {},
   "source": [
    "Make the cases over time chart like we did above but this time `facet` by state."
   ]
  },
  {
   "cell_type": "code",
   "execution_count": null,
   "id": "22b339da-958e-495e-8f95-4b31d485b6ed",
   "metadata": {},
   "outputs": [],
   "source": []
  }
 ],
 "metadata": {
  "kernelspec": {
   "display_name": "R",
   "language": "R",
   "name": "ir"
  },
  "language_info": {
   "codemirror_mode": "r",
   "file_extension": ".r",
   "mimetype": "text/x-r-source",
   "name": "R",
   "pygments_lexer": "r",
   "version": "4.2.3"
  }
 },
 "nbformat": 4,
 "nbformat_minor": 5
}
