{
 "cells": [
  {
   "cell_type": "markdown",
   "metadata": {},
   "source": [
    "1. Navigate to the Jupyter home page.\n",
    "1. Launch a new `R` notebook.\n",
    "1. Rename the notebook.\n",
    "1. Create a new cell.\n",
    "1. Change the new cell's \"type\" to `Markdown`\n",
    "1. Type `# Hello, World!` in your new cell and execute the cell with `CTRL-ENTER`.\n",
    "1. Add anoter new cell.\n",
    "1. Paste the following code in new cell:\n",
    "> print(\"Hello, world!\")\n",
    "1. Execute the cell.\n",
    "1. Move your Markdown cell to the bottom of the Notebook."
   ]
  }
 ],
 "metadata": {
  "kernelspec": {
   "display_name": "R",
   "language": "R",
   "name": "ir"
  },
  "language_info": {
   "codemirror_mode": "r",
   "file_extension": ".r",
   "mimetype": "text/x-r-source",
   "name": "R",
   "pygments_lexer": "r",
   "version": "4.1.3"
  }
 },
 "nbformat": 4,
 "nbformat_minor": 4
}
