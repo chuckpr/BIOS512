{
 "cells": [
  {
   "attachments": {},
   "cell_type": "markdown",
   "metadata": {},
   "source": [
    "## Take the tours\n",
    "1. Visit [this link](https://jupyter.org/try-jupyter/lab/). Navigate to `Help` in the menu at the top of your Jupyter Lab UI.\n",
    "  - From the help menu select and go through the `Welcome Tour`\n",
    "\n",
    "\n",
    "## Interface exercises\n",
    "1. Navigate to the launch page.\n",
    "1. Launch a new `R` notebook.\n",
    "1. Rename the notebook.\n",
    "1. Create a new cell.\n",
    "1. Paste the following code in new cell:\n",
    "> print(\"Hello, world!\")\n",
    "1. Execute the cell with `CTRL-ENTER`.\n",
    "1. Add a new blank cell.\n",
    "1. Drag the new cell to the top of your Notebook.\n",
    "1. Right click your Notebook tab and select `New view for Notebook`.\n",
    "1. Create another cell.\n",
    "    - Did it appear in both copies of your notebook?\n",
    "1. Close one of your notebook tabs\n",
    "1. Open the \"launcher\"\n",
    "1. Click on the \"Show Contextual Help\" tile\n",
    "1. View the contextual help and notebook in split screen\n",
    "1. Type `mtcars` in a notebook cell and put your cursor inside `mtcars`\n",
    "    - Can you see the help for the `mtcars` dataset?\n",
    "    - Scroll through the help documenation–what are the `mtcars` columns/variables?\n",
    "    - Copy/paste and execute the \"examples\" code from the `mtcars` help\n",
    "1. Right click your notebook in the file browser and click download to copy a notebook to your computer.\n",
    "    - What's the file extension?\n",
    "    - You can also use the \"download\" button in the notebook menu."
   ]
  }
 ],
 "metadata": {
  "kernelspec": {
   "display_name": "R",
   "language": "R",
   "name": "ir"
  },
  "language_info": {
   "codemirror_mode": "r",
   "file_extension": ".r",
   "mimetype": "text/x-r-source",
   "name": "R",
   "pygments_lexer": "r",
   "version": "4.2.2"
  }
 },
 "nbformat": 4,
 "nbformat_minor": 4
}
