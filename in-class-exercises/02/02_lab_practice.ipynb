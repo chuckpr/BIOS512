{
 "cells": [
  {
   "cell_type": "markdown",
   "metadata": {},
   "source": [
    "1. Navigate to the launch page.\n",
    "1. Launch a new `R` notebook.\n",
    "1. Rename the notebook.\n",
    "1. Create a new cell.\n",
    "1. Paste the following code in new cell:\n",
    "> print(\"Hello, world!\")\n",
    "1. Execute the cell with `CTRL-ENTER`.\n",
    "1. Add a new blank cell.\n",
    "1. Drag the new cell to the top of your Notebook.\n",
    "1. Right click your Notebook tab and select `New view for Notebook`.\n",
    "1. Create another cell.\n",
    "1. Did it appear in both copies of your notebook?"
   ]
  }
 ],
 "metadata": {
  "kernelspec": {
   "display_name": "R",
   "language": "R",
   "name": "ir"
  },
  "language_info": {
   "codemirror_mode": "r",
   "file_extension": ".r",
   "mimetype": "text/x-r-source",
   "name": "R",
   "pygments_lexer": "r",
   "version": "4.1.3"
  }
 },
 "nbformat": 4,
 "nbformat_minor": 4
}
