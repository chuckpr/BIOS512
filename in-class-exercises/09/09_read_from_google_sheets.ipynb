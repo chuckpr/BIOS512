{
 "cells": [
  {
   "cell_type": "markdown",
   "id": "230d1b45-b0af-4482-92a3-352f6a260111",
   "metadata": {},
   "source": [
    "🧬 💵 Let's read salary data for biotech careers from [this public spreadsheet](https://docs.google.com/spreadsheets/d/1G0FmJhkOME_sv66hWmhnZS5qR2KMTY7nzkxksv46bfk).\n",
    "\n",
    "First, load the `googlesheets4` package."
   ]
  },
  {
   "cell_type": "code",
   "execution_count": null,
   "id": "d33d5bb1-368e-4500-ab37-d97ce69c6485",
   "metadata": {},
   "outputs": [],
   "source": []
  },
  {
   "cell_type": "markdown",
   "id": "1d7c4ba1-cc95-4f5c-8339-1d50940e6aeb",
   "metadata": {},
   "source": [
    "📈 Make a chart that shows the relationship between `Years of Experience` and `Compensation - Annual Base Salary/Pay`.\n",
    "\n",
    "❗️ Remember that you need to use backticks to access columns whose names have spaces:\n",
    "\n",
    "```\n",
    "`Years of Experience`\n",
    "```"
   ]
  },
  {
   "cell_type": "code",
   "execution_count": null,
   "id": "248678ad-bf55-45e2-939b-d5551bcde67d",
   "metadata": {},
   "outputs": [],
   "source": []
  },
  {
   "cell_type": "markdown",
   "id": "af5db6f0-8a3e-4d31-a1ea-c97f75231ca4",
   "metadata": {},
   "source": [
    "📊 Count the number of respondents that belong to each `Highest achieved Formal Education` category. You can do this visually with `geom_bar` or in table form with `dplyr`..."
   ]
  },
  {
   "cell_type": "code",
   "execution_count": null,
   "id": "9710ebb9-cf9f-402a-95bc-7f0c709ba74a",
   "metadata": {},
   "outputs": [],
   "source": []
  },
  {
   "cell_type": "markdown",
   "id": "91d200b9-4817-41c4-ade8-9882536c66e3",
   "metadata": {},
   "source": [
    "📊 Make a histogram of `Compensation - Annual Base Salary/Pay` for respondents in the `Bachelors or Equivalent` group from the `Highest achieved Formal Education` column.,"
   ]
  },
  {
   "cell_type": "code",
   "execution_count": null,
   "id": "043d8e2e-faad-469f-beb2-97e420ee4d07",
   "metadata": {},
   "outputs": [],
   "source": []
  }
 ],
 "metadata": {
  "kernelspec": {
   "display_name": "R",
   "language": "R",
   "name": "ir"
  },
  "language_info": {
   "codemirror_mode": "r",
   "file_extension": ".r",
   "mimetype": "text/x-r-source",
   "name": "R",
   "pygments_lexer": "r",
   "version": "4.1.1"
  }
 },
 "nbformat": 4,
 "nbformat_minor": 5
}
