{
 "cells": [
  {
   "cell_type": "markdown",
   "id": "fa1dc93f-fd13-4eb0-b91c-e3420cffc5ef",
   "metadata": {},
   "source": [
    "Save the `iris` data set as a `CSV` using `write_csv`."
   ]
  },
  {
   "cell_type": "code",
   "execution_count": null,
   "id": "57c14c43-b211-4a75-b3ce-29b992eddac5",
   "metadata": {},
   "outputs": [],
   "source": []
  },
  {
   "cell_type": "markdown",
   "id": "e01f0683-9ba5-474c-89f5-9e6840224ac0",
   "metadata": {},
   "source": [
    "Double click on the file you just created (you should see it in the file browser). "
   ]
  },
  {
   "cell_type": "markdown",
   "id": "8431214c-1cfe-44bf-99bd-68d7a8b70b00",
   "metadata": {},
   "source": [
    "Does it look like what you'd expect?"
   ]
  },
  {
   "cell_type": "markdown",
   "id": "222b5b34-a16b-447a-8c14-735d61566674",
   "metadata": {},
   "source": [
    "Download the `CSV` file and upload it to your BIOS512 Git repo on GitHub. \n",
    "- Does GitHub recognize the file content and render it nicely for you? \n",
    "- What does the \"raw\" file look like?"
   ]
  },
  {
   "cell_type": "markdown",
   "id": "dba7cf69-c508-4f29-beb1-8ae72387b5b7",
   "metadata": {},
   "source": [
    "Import the file you uploaded to GitHub using `read_csv`."
   ]
  },
  {
   "cell_type": "code",
   "execution_count": null,
   "id": "fa4e0e85-e5f0-401a-9251-936936feb407",
   "metadata": {},
   "outputs": [],
   "source": []
  }
 ],
 "metadata": {
  "kernelspec": {
   "display_name": "R",
   "language": "R",
   "name": "ir"
  },
  "language_info": {
   "codemirror_mode": "r",
   "file_extension": ".r",
   "mimetype": "text/x-r-source",
   "name": "R",
   "pygments_lexer": "r",
   "version": "4.1.1"
  }
 },
 "nbformat": 4,
 "nbformat_minor": 5
}
