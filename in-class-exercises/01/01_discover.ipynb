{
 "cells": [
  {
   "cell_type": "markdown",
   "id": "31ca21c6",
   "metadata": {},
   "source": [
    "## Discover R/Tidyverse"
   ]
  },
  {
   "cell_type": "markdown",
   "id": "3843d62f",
   "metadata": {},
   "source": [
    "To complete this notebook just copy/paste and execute the given code in the cells below."
   ]
  },
  {
   "cell_type": "markdown",
   "id": "f0e02542",
   "metadata": {},
   "source": [
    "```R\n",
    "library('tidyverse')\n",
    "```"
   ]
  },
  {
   "cell_type": "code",
   "execution_count": null,
   "id": "680a9d51",
   "metadata": {},
   "outputs": [],
   "source": []
  },
  {
   "cell_type": "markdown",
   "id": "b288ad36",
   "metadata": {},
   "source": [
    "```R\n",
    "library('palmerpenguins')\n",
    "```"
   ]
  },
  {
   "cell_type": "code",
   "execution_count": null,
   "id": "a4ed5210",
   "metadata": {},
   "outputs": [],
   "source": []
  },
  {
   "cell_type": "markdown",
   "id": "5f1f6cf2",
   "metadata": {},
   "source": [
    "```R\n",
    "penguins %>% glimpse\n",
    "```"
   ]
  },
  {
   "cell_type": "code",
   "execution_count": null,
   "id": "37f728df",
   "metadata": {},
   "outputs": [],
   "source": []
  },
  {
   "cell_type": "markdown",
   "id": "f5038837",
   "metadata": {},
   "source": [
    "```R\n",
    "penguins %>% head()\n",
    "```"
   ]
  },
  {
   "cell_type": "code",
   "execution_count": null,
   "id": "3602d51a",
   "metadata": {},
   "outputs": [],
   "source": []
  },
  {
   "cell_type": "markdown",
   "id": "99b1db2d",
   "metadata": {},
   "source": [
    "```R\n",
    "options(repr.plot.res = 250, repr.plot.width = 5, repr.plot.height = 4)\n",
    "\n",
    "p = ggplot(penguins, aes(y = species)) +\n",
    "    geom_bar()\n",
    "\n",
    "p\n",
    "```"
   ]
  },
  {
   "cell_type": "code",
   "execution_count": null,
   "id": "21711937",
   "metadata": {},
   "outputs": [],
   "source": []
  },
  {
   "cell_type": "markdown",
   "id": "13493821",
   "metadata": {},
   "source": [
    "```R\n",
    "p = ggplot(penguins, aes(y = species, fill = island)) +\n",
    "    geom_bar()\n",
    "\n",
    "p\n",
    "```"
   ]
  },
  {
   "cell_type": "code",
   "execution_count": null,
   "id": "d9dae916",
   "metadata": {},
   "outputs": [],
   "source": []
  },
  {
   "cell_type": "markdown",
   "id": "32a41af7",
   "metadata": {},
   "source": [
    "```R\n",
    "p = ggplot(penguins, aes(x = bill_length_mm, y = body_mass_g)) +\n",
    "    geom_point()\n",
    "\n",
    "p\n",
    "```"
   ]
  },
  {
   "cell_type": "code",
   "execution_count": null,
   "id": "ab30d365",
   "metadata": {},
   "outputs": [],
   "source": []
  },
  {
   "cell_type": "markdown",
   "id": "cca3c461",
   "metadata": {},
   "source": [
    "```R\n",
    "p = ggplot(penguins, aes(x = bill_length_mm, y = body_mass_g, color = sex)) +\n",
    "    geom_point()\n",
    "\n",
    "p\n",
    "```"
   ]
  },
  {
   "cell_type": "code",
   "execution_count": null,
   "id": "0b2632d0",
   "metadata": {},
   "outputs": [],
   "source": []
  },
  {
   "cell_type": "markdown",
   "id": "0cd36e6f",
   "metadata": {},
   "source": [
    "```R\n",
    "options(repr.plot.res = 250, repr.plot.width = 8, repr.plot.height = 3)\n",
    "\n",
    "p = ggplot(penguins, aes(x = bill_length_mm, y = body_mass_g, color = species)) +\n",
    "    facet_wrap(~sex, ncol = 3)\n",
    "\n",
    "p\n",
    "```"
   ]
  },
  {
   "cell_type": "code",
   "execution_count": null,
   "id": "e1807668",
   "metadata": {},
   "outputs": [],
   "source": []
  },
  {
   "cell_type": "markdown",
   "id": "b0002c4f",
   "metadata": {},
   "source": [
    "```R\n",
    "options(repr.plot.res = 250, repr.plot.width = 8, repr.plot.height = 3)\n",
    "\n",
    "p = ggplot(penguins, aes(x = bill_length_mm, y = body_mass_g, color = species)) +\n",
    "    geom_point() +\n",
    "    facet_wrap(~sex, ncol = 3)\n",
    "\n",
    "p\n",
    "```"
   ]
  },
  {
   "cell_type": "code",
   "execution_count": null,
   "id": "a3a2fb14",
   "metadata": {},
   "outputs": [],
   "source": []
  },
  {
   "cell_type": "markdown",
   "id": "8f6d028e",
   "metadata": {},
   "source": [
    "```R\n",
    "options(repr.plot.res = 250, repr.plot.width = 5, repr.plot.height = 5)\n",
    "\n",
    "p = ggplot(penguins, aes(x = flipper_length_mm, y = body_mass_g)) +\n",
    "    geom_point(alpha = 0.5, na.rm = T)\n",
    "\n",
    "p\n",
    "```"
   ]
  },
  {
   "cell_type": "code",
   "execution_count": null,
   "id": "8ae340c3",
   "metadata": {},
   "outputs": [],
   "source": []
  },
  {
   "cell_type": "markdown",
   "id": "e056a225",
   "metadata": {},
   "source": [
    "```R\n",
    "options(repr.plot.res = 250, repr.plot.width = 5, repr.plot.height = 5)\n",
    "\n",
    "p = ggplot(penguins, aes(x = flipper_length_mm, y = body_mass_g)) +\n",
    "    geom_point(alpha = 0.5, na.rm = T) + \n",
    "    stat_smooth(method = 'lm', formula = y ~ x, na.rm = T)\n",
    "\n",
    "p\n",
    "```"
   ]
  },
  {
   "cell_type": "code",
   "execution_count": null,
   "id": "7feb985e",
   "metadata": {},
   "outputs": [],
   "source": []
  }
 ],
 "metadata": {
  "kernelspec": {
   "display_name": "R",
   "language": "R",
   "name": "ir"
  },
  "language_info": {
   "codemirror_mode": "r",
   "file_extension": ".r",
   "mimetype": "text/x-r-source",
   "name": "R",
   "pygments_lexer": "r",
   "version": "4.1.3"
  }
 },
 "nbformat": 4,
 "nbformat_minor": 5
}
