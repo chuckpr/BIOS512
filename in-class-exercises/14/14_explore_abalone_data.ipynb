{
 "cells": [
  {
   "cell_type": "markdown",
   "id": "1d5c6984-85ca-4e25-8db3-db8c352483ba",
   "metadata": {},
   "source": [
    "![](data:image/jpeg;base64,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)"
   ]
  },
  {
   "cell_type": "markdown",
   "id": "85e87816-720b-41ca-aed8-b3a5fdaf6bf8",
   "metadata": {},
   "source": [
    "Create a vector with the following values called `header`.\n",
    "- Sex\n",
    "- Length                                                                                   \n",
    "- Diameter                                                                                 \n",
    "- Height                                                                                   \n",
    "- Whole_weight\n",
    "- Shucked_weight                                                 \n",
    "- Viscera_weight\n",
    "- Shell_weight\n",
    "- Rings"
   ]
  },
  {
   "cell_type": "code",
   "execution_count": null,
   "id": "4694d4e9-4e1d-4f06-aa66-9b9d46efb6f9",
   "metadata": {},
   "outputs": [],
   "source": [
    "# header = c('Sex', 'Length', 'Diameter', 'Height', 'Whole_weight', 'Shucked_weight', 'Viscera_weight', 'Shell_weight', 'Rings')"
   ]
  },
  {
   "cell_type": "markdown",
   "id": "b48a66a3-4da0-4bdc-beb6-3ec14ca7076c",
   "metadata": {},
   "source": [
    "Read in the abalone data. You can retrieve the link from this URL: [abalone data folder](https://archive.ics.uci.edu/ml/machine-learning-databases/abalone/)\n",
    "\n",
    "We want the `abalone.data` file.\n",
    "\n",
    "Use the `col_names` argument with the `names` vector from above to set the column names."
   ]
  },
  {
   "cell_type": "code",
   "execution_count": null,
   "id": "cbbd4711-16d1-4b89-9225-7df7cc7476c4",
   "metadata": {},
   "outputs": [],
   "source": []
  },
  {
   "cell_type": "markdown",
   "id": "c5ddd490-bf84-475e-9646-3241403b114b",
   "metadata": {},
   "source": [
    "Is there any missing data? Use `filter` to find out."
   ]
  },
  {
   "cell_type": "code",
   "execution_count": null,
   "id": "df93ca17-7a74-440a-be68-0b113a9d8b46",
   "metadata": {},
   "outputs": [],
   "source": []
  },
  {
   "cell_type": "markdown",
   "id": "1e7add39-84e5-4326-85df-33d4bc355054",
   "metadata": {},
   "source": [
    "Make a scatter plot of `Whole_weight` versus `Shucked_weight` and color the points by `Sex`."
   ]
  },
  {
   "cell_type": "code",
   "execution_count": null,
   "id": "f070906a-3ccc-413b-962e-ef0e01e08063",
   "metadata": {},
   "outputs": [],
   "source": []
  },
  {
   "cell_type": "markdown",
   "id": "133c926f-2fcb-46ea-8806-d002d1c5e80d",
   "metadata": {},
   "source": [
    "Make a \"jitter\" chart where the weight catetories are on the `y-axis` and the weight values are on the `x-axis`. Order the chart by median value of each weight catetory. \n",
    "\n",
    "(Hint: Remember `pivot_longer`)"
   ]
  },
  {
   "cell_type": "code",
   "execution_count": null,
   "id": "c63ff1fe-a91f-4ecb-bfe9-526ea112082d",
   "metadata": {},
   "outputs": [],
   "source": []
  }
 ],
 "metadata": {
  "kernelspec": {
   "display_name": "R",
   "language": "R",
   "name": "ir"
  },
  "language_info": {
   "codemirror_mode": "r",
   "file_extension": ".r",
   "mimetype": "text/x-r-source",
   "name": "R",
   "pygments_lexer": "r",
   "version": "4.1.1"
  }
 },
 "nbformat": 4,
 "nbformat_minor": 5
}
