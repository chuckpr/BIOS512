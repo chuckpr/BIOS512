{
 "cells": [
  {
   "cell_type": "markdown",
   "id": "d59f8cad-f7a4-400b-8587-05fa3ec2a4c9",
   "metadata": {},
   "source": [
    "Uncomment and run the code below 👇"
   ]
  },
  {
   "cell_type": "code",
   "execution_count": null,
   "id": "b2319cf2-a247-48a8-a340-fff89ed3264f",
   "metadata": {},
   "outputs": [],
   "source": [
    "# library('tidyverse')\n",
    "# library('tidymodels')\n",
    "\n",
    "# header = c('Sex', 'Length', 'Diameter', 'Height', 'Whole_weight', \n",
    "#            'Shucked_weight', 'Viscera_weight', 'Shell_weight', 'Rings')\n",
    "\n",
    "# abalone_df = read_csv(\n",
    "#     'https://archive.ics.uci.edu/ml/machine-learning-databases/abalone/abalone.data',\n",
    "#     col_types = cols(),\n",
    "#     col_names = header\n",
    "# )\n",
    "\n",
    "# abalone_split = initial_split(abalone_df)\n",
    "\n",
    "# abalone_training = training(abalone_split)\n",
    "# abalone_testing = testing(abalone_split)\n",
    "\n",
    "# abalone_recipe = recipe(Rings ~ ., data = abalone_training) %>%\n",
    "#     step_other(all_nominal_predictors()) %>%\n",
    "#     step_center(all_numeric_predictors()) %>%\n",
    "#     step_scale(all_numeric_predictors()) %>%\n",
    "#;     prep()"
   ]
  },
  {
   "cell_type": "markdown",
   "id": "0fe3d6e0-c9c4-42a6-b394-d6c1f135a531",
   "metadata": {},
   "source": [
    "We are going to build two models to predict `Rings` with the abalone measurements we have collected. The first will be a penalized regression model and the second a random forest model."
   ]
  },
  {
   "cell_type": "markdown",
   "id": "15c78d2b-e467-45e7-be90-8d28d36937f5",
   "metadata": {},
   "source": [
    "We use the `linear_reg` to generate linear regression models with `TidyModels`. There are different underlying \"engines\" (i.e. implementations of regression algorithms) available to us. Use the `show_engines` function with \"linear_reg\" (quoted) to see the available \"engines.\""
   ]
  },
  {
   "cell_type": "code",
   "execution_count": null,
   "id": "649e7e1f-b8d5-4e6d-a33e-b7a00f4f2eca",
   "metadata": {},
   "outputs": [],
   "source": []
  },
  {
   "cell_type": "markdown",
   "id": "36aa18d4-92a3-47e8-be33-fc88179b5bfb",
   "metadata": {},
   "source": [
    "🐚 🛑 wait here"
   ]
  },
  {
   "cell_type": "markdown",
   "id": "a2d0a3de-c4f1-42ae-a308-509cdd834103",
   "metadata": {},
   "source": [
    "## Regresion model"
   ]
  },
  {
   "cell_type": "markdown",
   "id": "2c95bd7a-1265-4f4d-a79b-2ee86e99daa7",
   "metadata": {},
   "source": [
    "With `TidyModels` we select the model/engine then and pass that to the `fit` function. Below is an example for a regularized regression model. Uncomment and run."
   ]
  },
  {
   "cell_type": "code",
   "execution_count": null,
   "id": "0d1094b6-0f70-4ffa-89c3-d072fe782730",
   "metadata": {},
   "outputs": [],
   "source": [
    "# lm_fit = linear_reg(penalty = 0.1, mixture = 1) %>% \n",
    "#   set_engine(\"glmnet\") %>%\n",
    "#   fit(Rings ~ ., data = bake(abalone_recipe, new_data = NULL))"
   ]
  },
  {
   "cell_type": "markdown",
   "id": "6a93ce06-2845-4713-ada3-0fb4d82e69db",
   "metadata": {},
   "source": [
    "We can \"predict\" the Rings from our testing data using the `predict` function. `predict` takes two arguments:\n",
    "1. the \"fit\" (`lm_fit` above 👆), and,\n",
    "1. testing data"
   ]
  },
  {
   "cell_type": "markdown",
   "id": "d28828c8-0952-4781-901d-579b96cc159d",
   "metadata": {},
   "source": [
    "Create `baked` testing data using the `bake` function and with your `abalone_testing` data."
   ]
  },
  {
   "cell_type": "code",
   "execution_count": null,
   "id": "523e5b8e-e8b2-4fec-b246-5d3469580b87",
   "metadata": {},
   "outputs": [],
   "source": []
  },
  {
   "cell_type": "markdown",
   "id": "606f1736-af2d-4e6e-9c53-92f846b17e9b",
   "metadata": {},
   "source": [
    "Now predict 🔮!"
   ]
  },
  {
   "cell_type": "code",
   "execution_count": null,
   "id": "baa13df0-95e0-4925-b47a-0595d973197b",
   "metadata": {},
   "outputs": [],
   "source": [
    "# predict(lm_fit, new_data = 👉 <put your baked testing data here>)"
   ]
  },
  {
   "cell_type": "markdown",
   "id": "caa5b1c9-28a6-46a5-b2f7-85ceed27974b",
   "metadata": {},
   "source": [
    "It's that simple 🙂"
   ]
  },
  {
   "cell_type": "markdown",
   "id": "9feaa6e1-bb5b-4cd0-8028-bdef757aee5c",
   "metadata": {},
   "source": [
    "🐚 🛑 wait here"
   ]
  },
  {
   "cell_type": "markdown",
   "id": "5f77ef88-db90-4963-914b-51275a451049",
   "metadata": {},
   "source": [
    "## Random forest model"
   ]
  },
  {
   "cell_type": "markdown",
   "id": "4f8b86c5-28be-4a0f-866f-24694c6f8be4",
   "metadata": {},
   "source": [
    "Let's build a random forest model now. Uncomment and run the code below."
   ]
  },
  {
   "cell_type": "code",
   "execution_count": null,
   "id": "d910d84f-2a5a-4bf8-9705-032a481330e2",
   "metadata": {},
   "outputs": [],
   "source": [
    "# show_engines(\"rand_forest\")"
   ]
  },
  {
   "cell_type": "markdown",
   "id": "323bad33-e29a-42d5-a725-b829ce0090d0",
   "metadata": {},
   "source": [
    "Replace `linear_reg` from your code above with `rand_forest` and use the argument `mode = \"regression\"`."
   ]
  },
  {
   "cell_type": "code",
   "execution_count": null,
   "id": "c7148d95-6fcd-4f50-b8b1-ebfdba3e6257",
   "metadata": {},
   "outputs": [],
   "source": [
    "# rf_fit = "
   ]
  },
  {
   "cell_type": "markdown",
   "id": "f9aaca8e-22ff-4b38-b965-1de2056e8aa3",
   "metadata": {},
   "source": [
    "Now predict rings with your `rf_fit` model 🔮..."
   ]
  },
  {
   "cell_type": "code",
   "execution_count": null,
   "id": "3c5ecbe9-2587-4fb6-94ac-7157ae6a41af",
   "metadata": {},
   "outputs": [],
   "source": []
  },
  {
   "cell_type": "markdown",
   "id": "df706ba6-51cc-40a4-bd9e-36fe83c917f4",
   "metadata": {},
   "source": [
    "🐚 🛑 wait here"
   ]
  },
  {
   "cell_type": "markdown",
   "id": "bf78e697-52cf-4051-acca-42d15f43de3a",
   "metadata": {},
   "source": [
    "Let's make a figure to compare the models."
   ]
  },
  {
   "cell_type": "markdown",
   "id": "2e820006-c253-4d86-8135-ff9f2be982e9",
   "metadata": {},
   "source": [
    "The code below gives you a \"wide\" data frame of your predictions versus the actual `Rings` values.\"\""
   ]
  },
  {
   "cell_type": "code",
   "execution_count": null,
   "id": "ce9dcf7b-165f-41c2-b3dc-ccd11d4e475d",
   "metadata": {},
   "outputs": [],
   "source": [
    "# pred_df = abalone_testing %>%\n",
    "#     select(Rings, Sex) %>%\n",
    "#     rename(truth = Rings) %>%\n",
    "#     bind_cols(\n",
    "#         predict(lm_fit, new_data = bake(abalone_recipe, new_data = abalone_testing)) %>%\n",
    "#             rename(lr_pred = .pred)\n",
    "#     ) %>%\n",
    "#     bind_cols(\n",
    "#         predict(rf_fit, new_data = bake(abalone_recipe, new_data = abalone_testing)) %>%\n",
    "#             rename(rf_pred = .pred)\n",
    "#     )\n",
    "\n",
    "# pred_df %>% head"
   ]
  },
  {
   "cell_type": "markdown",
   "id": "6eab7912-b6cc-4014-8170-6849b98e22d4",
   "metadata": {},
   "source": [
    "Make a chart with `truth` on the `y-axis` and predictions on the `x-axis` facetted by the model. \n",
    "\n",
    "(**Hint: use `pivot_longer` to get the data into the correct shape!**) "
   ]
  },
  {
   "cell_type": "code",
   "execution_count": null,
   "id": "16fd9915-210e-486f-8085-eb022794155e",
   "metadata": {},
   "outputs": [],
   "source": []
  },
  {
   "cell_type": "markdown",
   "id": "565a3c08-daba-428c-aff2-e0ce514504ff",
   "metadata": {},
   "source": [
    "Uncomment the cell below and change to markdown to see my solution."
   ]
  },
  {
   "cell_type": "code",
   "execution_count": null,
   "id": "07978210-3bed-41d6-9370-abdd824a786d",
   "metadata": {},
   "outputs": [],
   "source": [
    "# ![](https://github.com/chuckpr/BIOS512/blob/main/in-class-exercises/14/mod_comp.png?raw=true)"
   ]
  },
  {
   "cell_type": "markdown",
   "id": "4cf48440-2bd4-4783-baaa-f41a4191ce8c",
   "metadata": {},
   "source": [
    "We can also use the `metrics` function to calculate model performance. Here are the model metrics for the random forest model:"
   ]
  },
  {
   "cell_type": "code",
   "execution_count": null,
   "id": "b353994e-43f6-41a5-98d8-1a8d38d2b0f2",
   "metadata": {},
   "outputs": [],
   "source": [
    "# pred_df %>% metrics(truth = truth, estimate = rf_pred)"
   ]
  },
  {
   "cell_type": "markdown",
   "id": "dc86bf4e-216b-4615-a59d-cd384cf27778",
   "metadata": {},
   "source": [
    "Which model performed better?"
   ]
  },
  {
   "cell_type": "code",
   "execution_count": null,
   "id": "429c0beb-e197-4834-82dd-82763c8cd54a",
   "metadata": {},
   "outputs": [],
   "source": []
  }
 ],
 "metadata": {
  "kernelspec": {
   "display_name": "R",
   "language": "R",
   "name": "ir"
  },
  "language_info": {
   "codemirror_mode": "r",
   "file_extension": ".r",
   "mimetype": "text/x-r-source",
   "name": "R",
   "pygments_lexer": "r",
   "version": "4.1.1"
  }
 },
 "nbformat": 4,
 "nbformat_minor": 5
}
