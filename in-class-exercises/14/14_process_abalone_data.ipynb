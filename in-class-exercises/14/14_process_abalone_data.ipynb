{
 "cells": [
  {
   "cell_type": "markdown",
   "id": "e7a5bc4e-c771-4e36-a995-632253235611",
   "metadata": {},
   "source": [
    "🐌 We want to:\n",
    "1. <span style=\"color: firebrick\" >dummy</span> encode the `sex` column\n",
    "1. <span style=\"color: firebrick\" >center</span> each column,\n",
    "1. <span style=\"color: firebrick\" >scale</span> each column "
   ]
  },
  {
   "cell_type": "markdown",
   "id": "0af8c49a-506e-496b-bc9a-2bd90468ea5c",
   "metadata": {},
   "source": [
    "Load the `tidymodels` and `tidyverse` packages."
   ]
  },
  {
   "cell_type": "code",
   "execution_count": null,
   "id": "d67f1583-0ca5-4021-bbbf-6ce710f1c6d3",
   "metadata": {},
   "outputs": [],
   "source": []
  },
  {
   "cell_type": "markdown",
   "id": "84be0487-de8a-4f91-b9c9-2bc448fe0670",
   "metadata": {},
   "source": [
    "Read in the `abalone` data. Remember to set the column names with the `col_names` argument."
   ]
  },
  {
   "cell_type": "code",
   "execution_count": null,
   "id": "64b7489b-cbbc-480e-9718-1bd86bf535d3",
   "metadata": {},
   "outputs": [],
   "source": []
  },
  {
   "cell_type": "markdown",
   "id": "da309944-46d4-4294-a01d-060f22497cd0",
   "metadata": {},
   "source": [
    "Create a training and testing split from you original abalone data using `initial_split`."
   ]
  },
  {
   "cell_type": "code",
   "execution_count": null,
   "id": "c105f77a-c6e0-4e5d-b6e6-e5553d54768a",
   "metadata": {},
   "outputs": [],
   "source": []
  },
  {
   "cell_type": "markdown",
   "id": "255fb3d3-f05e-4b99-969a-017bc20b46ea",
   "metadata": {},
   "source": [
    "How many rows are in your testing data? How many in your training data?"
   ]
  },
  {
   "cell_type": "code",
   "execution_count": null,
   "id": "51722209-d319-4e6b-96f5-9d8728127d10",
   "metadata": {},
   "outputs": [],
   "source": []
  },
  {
   "cell_type": "markdown",
   "id": "60edb287-644b-4e52-b83a-ad52573bce27",
   "metadata": {},
   "source": [
    "🐚 🛑 wait here"
   ]
  },
  {
   "cell_type": "markdown",
   "id": "4a661bb4-9382-4093-bf6a-4787f5e84ff1",
   "metadata": {},
   "source": [
    "Make a `recipe` for you abalone data preprocessing. We will be predicting `Rings` using all other columns as predictors."
   ]
  },
  {
   "cell_type": "code",
   "execution_count": null,
   "id": "c084248a-bb8a-458a-aaa1-304e3c5e8be7",
   "metadata": {},
   "outputs": [],
   "source": []
  },
  {
   "cell_type": "markdown",
   "id": "d5707a05-8c0a-4a00-a6b3-baecbf5ed318",
   "metadata": {},
   "source": [
    "Add steps to execute the three operations listed above and then `prep` your recipe. \n",
    "\n",
    "Hint: tidymodels \"steps\" start with the `step_` prefix and are followed by an intuitive suffix. E.g. `step_other`."
   ]
  },
  {
   "cell_type": "code",
   "execution_count": null,
   "id": "c2de10c8-5e6c-45e0-88b2-86f5e11c39f2",
   "metadata": {},
   "outputs": [],
   "source": []
  },
  {
   "cell_type": "markdown",
   "id": "586207b9-fbcb-422a-a15b-11693e3995a3",
   "metadata": {},
   "source": [
    "Bake your training data and demonstrate that the columns are, in fact, centered and scaled with a combination of `dplyr` and `ggplot2`. "
   ]
  },
  {
   "cell_type": "code",
   "execution_count": null,
   "id": "be5ec397-4716-491c-8c6a-89d50c531e6d",
   "metadata": {},
   "outputs": [],
   "source": []
  },
  {
   "cell_type": "markdown",
   "id": "4d3bdf40-a6e1-4e7d-a5c5-38c4322c54e8",
   "metadata": {},
   "source": [
    "🐚 🛑 wait here"
   ]
  },
  {
   "cell_type": "markdown",
   "id": "e3fe7a47-1ab5-42aa-8e49-c75e20a7bf55",
   "metadata": {},
   "source": [
    "Now bake your testing data."
   ]
  },
  {
   "cell_type": "code",
   "execution_count": null,
   "id": "1bd6988f-c788-4d05-aa2f-008c9876cbb6",
   "metadata": {},
   "outputs": [],
   "source": []
  },
  {
   "cell_type": "markdown",
   "id": "818ee62a-1eec-42b8-96b7-3aab9cd8cae3",
   "metadata": {},
   "source": [
    "Are the median values for you numeric columns equal to 0.5?"
   ]
  },
  {
   "cell_type": "code",
   "execution_count": null,
   "id": "4af4ae41-c91c-4f36-89f5-77f828f84fee",
   "metadata": {},
   "outputs": [],
   "source": []
  }
 ],
 "metadata": {
  "kernelspec": {
   "display_name": "R",
   "language": "R",
   "name": "ir"
  },
  "language_info": {
   "codemirror_mode": "r",
   "file_extension": ".r",
   "mimetype": "text/x-r-source",
   "name": "R",
   "pygments_lexer": "r",
   "version": "4.1.1"
  }
 },
 "nbformat": 4,
 "nbformat_minor": 5
}
