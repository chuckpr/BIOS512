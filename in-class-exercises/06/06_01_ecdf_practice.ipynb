{
 "cells": [
  {
   "cell_type": "markdown",
   "id": "7e55e48b-1b56-4530-bb26-c8b268c4359b",
   "metadata": {},
   "source": [
    "Load the 📊`tidyverse`, 🐧`palmerpengions`, and ⚖`scales` packages."
   ]
  },
  {
   "cell_type": "code",
   "execution_count": null,
   "id": "f4acd764-7c0c-427a-bf8c-7882d3e8aef3",
   "metadata": {},
   "outputs": [],
   "source": []
  },
  {
   "cell_type": "markdown",
   "id": "baf47ab1-64e6-48f5-bf05-c36a1cb12982",
   "metadata": {},
   "source": [
    "Use `geom_density` to create the following figure from the `penguins` data.\n",
    "\n",
    "<img src=\"https://raw.githubusercontent.com/chuckpr/BIOS512/main/in-class-exercises/06/palmer-kde.png\" \n",
    "     style=\"width: 700px;\" />"
   ]
  },
  {
   "cell_type": "code",
   "execution_count": null,
   "id": "42187b44-4818-4a7e-b567-5fd71946d60d",
   "metadata": {},
   "outputs": [],
   "source": []
  },
  {
   "cell_type": "markdown",
   "id": "70ddb180-4152-4eb0-9b5f-715ecb84ff6e",
   "metadata": {},
   "source": [
    "🛑 **STOP HERE** 🛑"
   ]
  },
  {
   "cell_type": "markdown",
   "id": "c397e0cc-b63d-42ec-8f96-8a27be67ed62",
   "metadata": {},
   "source": [
    "What columns do we need to make the **ECDF** equivalent of the above chart using `geom_point` + `geom_line`?"
   ]
  },
  {
   "cell_type": "markdown",
   "id": "9b6b76b7-f2fd-4335-a3e0-e98c4787633b",
   "metadata": {},
   "source": []
  },
  {
   "cell_type": "markdown",
   "id": "be60d1ae-342e-4791-b058-e644921f7210",
   "metadata": {},
   "source": [
    "Read the following code snippet. Can you make sense of what it's doing? What do you think the output will be?\n",
    "\n",
    "```R\n",
    "ecdf = penguins %>%\n",
    "    arrange(body_mass_g) %>%\n",
    "    group_by(species) %>%\n",
    "    mutate(rn = row_number(), fraction_of_penguins = rn / max(rn))\n",
    "```"
   ]
  },
  {
   "cell_type": "markdown",
   "id": "6262cb67-ce10-447d-9d89-ab37c491cd0d",
   "metadata": {},
   "source": [
    "Copy the snippet above and execute it. What's does the `ecdf` table look like?"
   ]
  },
  {
   "cell_type": "code",
   "execution_count": null,
   "id": "6ad5926b-ee95-45f0-87d4-f0546850bdd1",
   "metadata": {},
   "outputs": [],
   "source": []
  },
  {
   "cell_type": "markdown",
   "id": "faaa7b39-094e-4583-816b-40262724b0d5",
   "metadata": {},
   "source": [
    "Using the `ecdf` table, create an **ECDF** chart of penguin body mass grouped by species."
   ]
  },
  {
   "cell_type": "code",
   "execution_count": null,
   "id": "33bbc1bc-3b25-49ec-b921-64242e4e94bf",
   "metadata": {},
   "outputs": [],
   "source": []
  },
  {
   "cell_type": "markdown",
   "id": "c28fb8a9-f298-44b2-8e00-072aa32c1b91",
   "metadata": {},
   "source": [
    "Uncomment the code below, change the cell to markdown and execute if you want to see my solution."
   ]
  },
  {
   "cell_type": "code",
   "execution_count": 1,
   "id": "6d3b5fcf-f11f-4107-bd9d-648e824a3a6e",
   "metadata": {},
   "outputs": [],
   "source": [
    "# ![](https://raw.githubusercontent.com/chuckpr/BIOS512/main/in-class-exercises/06/palmer-ecdf.png)"
   ]
  }
 ],
 "metadata": {
  "kernelspec": {
   "display_name": "R",
   "language": "R",
   "name": "ir"
  },
  "language_info": {
   "codemirror_mode": "r",
   "file_extension": ".r",
   "mimetype": "text/x-r-source",
   "name": "R",
   "pygments_lexer": "r",
   "version": "4.1.3"
  }
 },
 "nbformat": 4,
 "nbformat_minor": 5
}
