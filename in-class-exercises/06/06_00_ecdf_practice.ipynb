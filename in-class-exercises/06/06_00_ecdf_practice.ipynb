{
 "cells": [
  {
   "cell_type": "markdown",
   "metadata": {},
   "source": [
    "# ECDF plots"
   ]
  },
  {
   "cell_type": "code",
   "execution_count": null,
   "metadata": {},
   "outputs": [],
   "source": [
    "# uncomment the following:\n",
    "\n",
    "# library('tidyverse')\n",
    "# options(repr.plot.width = 4, repr.plot.height = 3, repr.plot.res = 300)"
   ]
  },
  {
   "cell_type": "markdown",
   "metadata": {},
   "source": [
    "This cell provides the data 👇."
   ]
  },
  {
   "cell_type": "code",
   "execution_count": null,
   "metadata": {},
   "outputs": [],
   "source": [
    "# otter.data = read.csv('https://jcoliver.github.io/learn-r/data/otter-mandible-data.csv') %>%\n",
    "#     gather(characteristic, value, -species, -museum, -accession) %>%\n",
    "#     drop_na()\n",
    "\n",
    "# otter.data %>% head"
   ]
  },
  {
   "cell_type": "markdown",
   "metadata": {},
   "source": [
    "Make an ECDF plot of `value` and:\n",
    "- facet by characteristic\n",
    "- allow the x-axis of each facetted plot to be independent (for the value of the the `scales` argument in `facet_wrap` use `\"free_x\"`)\n",
    "- color/group by species  \n",
    "\n",
    "Species names are typically italicized. Use `theme` and `element_text` to adjust the legend text so that it is italic.\n",
    "\n",
    "Which otter species has the smallest skull?"
   ]
  },
  {
   "cell_type": "code",
   "execution_count": null,
   "metadata": {},
   "outputs": [],
   "source": []
  },
  {
   "cell_type": "markdown",
   "metadata": {},
   "source": [
    "You can uncomment the following line and change the cell type to `markdown` to see what the solution should look like 👇. "
   ]
  },
  {
   "cell_type": "code",
   "execution_count": null,
   "metadata": {},
   "outputs": [],
   "source": [
    "# <img src=\"ecdf_otter_skull.png\" />"
   ]
  }
 ],
 "metadata": {
  "kernelspec": {
   "display_name": "R",
   "language": "R",
   "name": "ir"
  },
  "language_info": {
   "codemirror_mode": "r",
   "file_extension": ".r",
   "mimetype": "text/x-r-source",
   "name": "R",
   "pygments_lexer": "r",
   "version": "4.0.0"
  }
 },
 "nbformat": 4,
 "nbformat_minor": 4
}
