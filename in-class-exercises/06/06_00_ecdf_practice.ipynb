{
 "cells": [
  {
   "cell_type": "markdown",
   "metadata": {},
   "source": [
    "# ECDF plots"
   ]
  },
  {
   "cell_type": "code",
   "execution_count": null,
   "metadata": {},
   "outputs": [],
   "source": [
    "# uncomment the following:\n",
    "\n",
    "# library('tidyverse')"
   ]
  },
  {
   "cell_type": "markdown",
   "metadata": {},
   "source": [
    "This cell provides the data 👇."
   ]
  },
  {
   "cell_type": "code",
   "execution_count": null,
   "metadata": {},
   "outputs": [],
   "source": [
    "# otter.data = read.csv('https://raw.githubusercontent.com/jcoliver/learn-r/gh-pages/data/otter-mandible-data.csv') %>%\n",
    "#     gather(characteristic, value, -species, -museum, -accession) %>%\n",
    "#     drop_na() %>%\n",
    "#     group_by(species, characteristic) %>%\n",
    "#     arrange(value) %>%\n",
    "#     mutate(ecdf_y = cume_dist(value)) %>%\n",
    "#     ungroup()\n",
    "\n",
    "# otter.data %>% head"
   ]
  },
  {
   "cell_type": "markdown",
   "metadata": {},
   "source": [
    "Make an ECDF plot of `value` and:\n",
    "- facet by characteristic\n",
    "- allow the x-axis of each facetted plot to be independent (for the value of the the `scales` argument in `facet_wrap` use `\"free_x\"`)\n",
    "- color/group by species  \n",
    "\n",
    "Species names are typically italicized. Use `theme` and `element_text` to adjust the legend text so that it is italic.\n",
    "\n",
    "Which otter species has the smallest skull?"
   ]
  },
  {
   "cell_type": "code",
   "execution_count": null,
   "metadata": {},
   "outputs": [],
   "source": [
    "\n"
   ]
  }
 ],
 "metadata": {
  "kernelspec": {
   "display_name": "R",
   "language": "R",
   "name": "ir"
  },
  "language_info": {
   "codemirror_mode": "r",
   "file_extension": ".r",
   "mimetype": "text/x-r-source",
   "name": "R",
   "pygments_lexer": "r",
   "version": "4.2.3"
  }
 },
 "nbformat": 4,
 "nbformat_minor": 4
}
