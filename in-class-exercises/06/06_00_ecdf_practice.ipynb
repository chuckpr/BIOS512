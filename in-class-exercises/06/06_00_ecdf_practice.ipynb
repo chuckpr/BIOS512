{
 "cells": [
  {
   "cell_type": "markdown",
   "metadata": {},
   "source": [
    "# ECDF plots"
   ]
  },
  {
   "cell_type": "code",
   "execution_count": 2,
   "metadata": {},
   "outputs": [],
   "source": [
    "# uncomment the following:\n",
    "\n",
    "# library('tidyverse')\n",
    "# options(repr.plot.width = 4, repr.plot.height = 3, repr.plot.res = 300)"
   ]
  },
  {
   "cell_type": "markdown",
   "metadata": {},
   "source": [
    "This cell provides the data 👇."
   ]
  },
  {
   "cell_type": "code",
   "execution_count": 5,
   "metadata": {},
   "outputs": [
    {
     "data": {
      "text/html": [
       "<table class=\"dataframe\">\n",
       "<caption>A tibble: 6 × 6</caption>\n",
       "<thead>\n",
       "\t<tr><th scope=col>species</th><th scope=col>museum</th><th scope=col>accession</th><th scope=col>characteristic</th><th scope=col>value</th><th scope=col>ecdf_y</th></tr>\n",
       "\t<tr><th scope=col>&lt;chr&gt;</th><th scope=col>&lt;chr&gt;</th><th scope=col>&lt;chr&gt;</th><th scope=col>&lt;chr&gt;</th><th scope=col>&lt;dbl&gt;</th><th scope=col>&lt;dbl&gt;</th></tr>\n",
       "</thead>\n",
       "<tbody>\n",
       "\t<tr><td>A. cinerea</td><td>AMNH       </td><td>101471</td><td>m5</td><td>8.245</td><td>0.04347826</td></tr>\n",
       "\t<tr><td>A. cinerea</td><td>AMNH       </td><td>101461</td><td>m5</td><td>8.340</td><td>0.08695652</td></tr>\n",
       "\t<tr><td>A. cinerea</td><td>AMNH       </td><td>101466</td><td>m5</td><td>9.430</td><td>0.13043478</td></tr>\n",
       "\t<tr><td>A. cinerea</td><td>Smithsonian</td><td>314979</td><td>m5</td><td>9.510</td><td>0.17391304</td></tr>\n",
       "\t<tr><td>A. cinerea</td><td>AMNH       </td><td>101459</td><td>m5</td><td>9.600</td><td>0.21739130</td></tr>\n",
       "\t<tr><td>A. cinerea</td><td>AMNH       </td><td>101470</td><td>m5</td><td>9.985</td><td>0.26086957</td></tr>\n",
       "</tbody>\n",
       "</table>\n"
      ],
      "text/latex": [
       "A tibble: 6 × 6\n",
       "\\begin{tabular}{llllll}\n",
       " species & museum & accession & characteristic & value & ecdf\\_y\\\\\n",
       " <chr> & <chr> & <chr> & <chr> & <dbl> & <dbl>\\\\\n",
       "\\hline\n",
       "\t A. cinerea & AMNH        & 101471 & m5 & 8.245 & 0.04347826\\\\\n",
       "\t A. cinerea & AMNH        & 101461 & m5 & 8.340 & 0.08695652\\\\\n",
       "\t A. cinerea & AMNH        & 101466 & m5 & 9.430 & 0.13043478\\\\\n",
       "\t A. cinerea & Smithsonian & 314979 & m5 & 9.510 & 0.17391304\\\\\n",
       "\t A. cinerea & AMNH        & 101459 & m5 & 9.600 & 0.21739130\\\\\n",
       "\t A. cinerea & AMNH        & 101470 & m5 & 9.985 & 0.26086957\\\\\n",
       "\\end{tabular}\n"
      ],
      "text/markdown": [
       "\n",
       "A tibble: 6 × 6\n",
       "\n",
       "| species &lt;chr&gt; | museum &lt;chr&gt; | accession &lt;chr&gt; | characteristic &lt;chr&gt; | value &lt;dbl&gt; | ecdf_y &lt;dbl&gt; |\n",
       "|---|---|---|---|---|---|\n",
       "| A. cinerea | AMNH        | 101471 | m5 | 8.245 | 0.04347826 |\n",
       "| A. cinerea | AMNH        | 101461 | m5 | 8.340 | 0.08695652 |\n",
       "| A. cinerea | AMNH        | 101466 | m5 | 9.430 | 0.13043478 |\n",
       "| A. cinerea | Smithsonian | 314979 | m5 | 9.510 | 0.17391304 |\n",
       "| A. cinerea | AMNH        | 101459 | m5 | 9.600 | 0.21739130 |\n",
       "| A. cinerea | AMNH        | 101470 | m5 | 9.985 | 0.26086957 |\n",
       "\n"
      ],
      "text/plain": [
       "  species    museum      accession characteristic value ecdf_y    \n",
       "1 A. cinerea AMNH        101471    m5             8.245 0.04347826\n",
       "2 A. cinerea AMNH        101461    m5             8.340 0.08695652\n",
       "3 A. cinerea AMNH        101466    m5             9.430 0.13043478\n",
       "4 A. cinerea Smithsonian 314979    m5             9.510 0.17391304\n",
       "5 A. cinerea AMNH        101459    m5             9.600 0.21739130\n",
       "6 A. cinerea AMNH        101470    m5             9.985 0.26086957"
      ]
     },
     "metadata": {},
     "output_type": "display_data"
    }
   ],
   "source": [
    "# otter.data = read.csv('https://jcoliver.github.io/learn-r/data/otter-mandible-data.csv') %>%\n",
    "#     gather(characteristic, value, -species, -museum, -accession) %>%\n",
    "#     drop_na() %>%\n",
    "#     group_by(species, characteristic) %>%\n",
    "#     arrange(value) %>%\n",
    "#     mutate(ecdf_y = row_number() / n()) %>%\n",
    "#     ungroup()\n",
    "\n",
    "# otter.data %>% head"
   ]
  },
  {
   "cell_type": "markdown",
   "metadata": {},
   "source": [
    "Make an ECDF plot of `value` and:\n",
    "- facet by characteristic\n",
    "- allow the x-axis of each facetted plot to be independent (for the value of the the `scales` argument in `facet_wrap` use `\"free_x\"`)\n",
    "- color/group by species  \n",
    "\n",
    "Species names are typically italicized. Use `theme` and `element_text` to adjust the legend text so that it is italic.\n",
    "\n",
    "Which otter species has the smallest skull?"
   ]
  },
  {
   "cell_type": "code",
   "execution_count": null,
   "metadata": {},
   "outputs": [],
   "source": []
  },
  {
   "cell_type": "markdown",
   "metadata": {},
   "source": [
    "You can uncomment the following line and change the cell type to `markdown` to see what the solution should look like 👇. "
   ]
  },
  {
   "cell_type": "code",
   "execution_count": null,
   "metadata": {},
   "outputs": [],
   "source": [
    "# <img src=\"ecdf_otter_skull.png\" />"
   ]
  }
 ],
 "metadata": {
  "kernelspec": {
   "display_name": "R",
   "language": "R",
   "name": "ir"
  },
  "language_info": {
   "codemirror_mode": "r",
   "file_extension": ".r",
   "mimetype": "text/x-r-source",
   "name": "R",
   "pygments_lexer": "r",
   "version": "4.1.3"
  }
 },
 "nbformat": 4,
 "nbformat_minor": 4
}
