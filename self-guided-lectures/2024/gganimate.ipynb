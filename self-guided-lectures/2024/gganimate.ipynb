{
 "cells": [
  {
   "cell_type": "markdown",
   "id": "de613ecd-8cd5-467d-b81e-896f3d0288bd",
   "metadata": {},
   "source": [
    "## Setting up your environment"
   ]
  },
  {
   "attachments": {
    "e0a9b33d-f18d-4562-b0b7-284164b3ad63.png": {
     "image/png": "[encoded data removed]"
    }
   },
   "cell_type": "markdown",
   "id": "ee4b264e-94b4-40e4-8f4f-8658f89eda2b",
   "metadata": {},
   "source": [
    "Before we begin writing code, we need to add some dependencies to your `bios512` environment. Specifically, we need to install the:\n",
    "1. [gganimate](https://gganimate.com/),\n",
    "2. [gifski](https://ropensci.org/blog/2018/07/23/gifski-release/), and,\n",
    "3. [gapminder](https://cran.r-project.org/web/packages/gapminder/readme/README.html) packages.\n",
    "\n",
    "We can use `mamba` in a terminal to install these packages. From your launcher menu, select the terminal appilcation and run the command below.\n",
    "\n",
    "![image.png](attachment:e0a9b33d-f18d-4562-b0b7-284164b3ad63.png)\n",
    "\n",
    "```sh\n",
    "\n",
    "# run this command from your terminal prompt\n",
    "\n",
    "mamba install -c conda-forge -n bios512 r-gapminder r-gifski r-gganimate\n",
    "\n",
    "```"
   ]
  },
  {
   "cell_type": "markdown",
   "id": "9118d4c0-d724-4e50-81ea-5ea6ae4218f8",
   "metadata": {},
   "source": [
    "## Load libraries"
   ]
  },
  {
   "cell_type": "markdown",
   "id": "894380f6-2bf4-4843-8e2e-81b67f85a5ac",
   "metadata": {},
   "source": [
    "Now you can load the libraries we'll use in this lecture."
   ]
  },
  {
   "cell_type": "code",
   "execution_count": null,
   "id": "3f13ad96-e692-4daf-a195-38d81b0fb6fb",
   "metadata": {
    "tags": []
   },
   "outputs": [],
   "source": [
    "# 🏃🏽‍♀️ run me! \n",
    "\n",
    "library('tidyverse')\n",
    "library('gganimate')\n",
    "library('palmerpenguins')\n",
    "library('gapminder')"
   ]
  },
  {
   "cell_type": "markdown",
   "id": "c3ca3752-4b6b-4508-8cd7-f52eb324bca3",
   "metadata": {},
   "source": [
    "## Function for displaying `GIFs`"
   ]
  },
  {
   "cell_type": "markdown",
   "id": "e217c9c4-283a-4987-b700-3fda947b6e57",
   "metadata": {},
   "source": [
    "The last bit of set-up is to make a function that will display our animations in notebooks. Run the cell below ⬇️ to create a function called `display_gif` that we will use later."
   ]
  },
  {
   "cell_type": "code",
   "execution_count": null,
   "id": "7caddf3b-3d75-4f6b-839f-69fadb652902",
   "metadata": {
    "tags": []
   },
   "outputs": [],
   "source": [
    "# 🏃🏽‍♀️ run me! \n",
    "\n",
    "display_gif = function(gganim, ...){\n",
    "    \n",
    "    raw = suppressMessages(animate(gganim, ..., renderer = gifski_renderer()))\n",
    "    \n",
    "    contents = base64enc::base64encode(raw)\n",
    "    tag = '<img src=\"data:image/gif;base64,%s\">'\n",
    "    \n",
    "    IRdisplay::display_html(sprintf(tag, contents))\n",
    "    \n",
    "}"
   ]
  },
  {
   "cell_type": "markdown",
   "id": "aae3039d-0714-410c-99a4-5c48631a8774",
   "metadata": {
    "tags": []
   },
   "source": [
    "## Iris example"
   ]
  },
  {
   "cell_type": "markdown",
   "id": "e67a4e81-2647-4ac2-9667-aec46d58c9ec",
   "metadata": {},
   "source": [
    "Let's start by creating an example figure using the `iris` data set."
   ]
  },
  {
   "cell_type": "code",
   "execution_count": null,
   "id": "d9f789a1-6b68-458d-9dcd-87f91a7061a9",
   "metadata": {},
   "outputs": [],
   "source": [
    "# 🏃🏽‍♀️ run me! \n",
    "\n",
    "options(repr.plot.width = 5, repr.plot.height = 3, repr.plot.res = 250)\n",
    "\n",
    "ggplot(iris, aes(x = Petal.Width, y = Petal.Length, colour = Species)) + \n",
    "    geom_point(size = 4, alpha = 0.75) +\n",
    "    scale_color_brewer(palette = 'Set2')"
   ]
  },
  {
   "cell_type": "markdown",
   "id": "fa52d48f-c87c-4dbd-ab44-23f8c44df60b",
   "metadata": {},
   "source": [
    "⬆️ Above is a static chart. It displays all three species in the data set simultaneously. We can transform this into a dynamic visualization by adding one layer to the chart. ♩Note the new layer: `transition_states`. What happens if you change the `transition_length` and `state_length` values?"
   ]
  },
  {
   "cell_type": "code",
   "execution_count": null,
   "id": "695a0aba-1205-42a3-b8ab-d4937081f7d0",
   "metadata": {
    "tags": []
   },
   "outputs": [],
   "source": [
    "# 🏃🏽‍♀️ run me! \n",
    "\n",
    "anim = ggplot(iris, aes(x = Petal.Width, y = Petal.Length, colour = Species)) + \n",
    "    geom_point(size = 4, alpha = 0.75) +\n",
    "    scale_color_brewer(palette = 'Set2') +\n",
    "    ggtitle('Now showing {closest_state}') +\n",
    "    transition_states(Species, transition_length = 1, state_length = 1) # ⬅ This is the new layer\n",
    "\n",
    "display_gif(anim, width = 5, height = 3, units = 'in', res = 250)"
   ]
  },
  {
   "cell_type": "markdown",
   "id": "8f0bd81f-4a39-4ced-a334-17e1f4663a18",
   "metadata": {},
   "source": [
    "We can further refine out how our chart changes using `enter_` and `exit_` layers. ⬇️ Below I make my points enter by growing and leave by shrinking."
   ]
  },
  {
   "cell_type": "code",
   "execution_count": null,
   "id": "7f2d6bf0-7f73-4716-8724-cbde0a75b097",
   "metadata": {
    "tags": []
   },
   "outputs": [],
   "source": [
    "# 🏃🏽‍♀️ run me! \n",
    "\n",
    "anim = ggplot(iris, aes(x = Petal.Width, y = Petal.Length, colour = Species)) + \n",
    "    geom_point(size = 4, alpha = 0.75) +\n",
    "    scale_color_brewer(palette = 'Set2') +\n",
    "    ggtitle('Now showing {closest_state}') +\n",
    "    transition_states(Species, transition_length = 2, state_length = 1) + \n",
    "    enter_grow() + \n",
    "    exit_shrink()\n",
    "\n",
    "display_gif(anim, width = 5, height = 3, units = 'in', res = 250)"
   ]
  },
  {
   "cell_type": "markdown",
   "id": "2034acfe-e06a-42c6-9de8-62d4fb64ec82",
   "metadata": {},
   "source": [
    "👀 **[This cheat sheet](https://rstudio.github.io/cheatsheets/gganimate.pdf) is helpful for understanding how gganimate works!**"
   ]
  },
  {
   "cell_type": "markdown",
   "id": "c832020a-e3de-4e72-8652-83348626d33a",
   "metadata": {},
   "source": [
    "## Tweening"
   ]
  },
  {
   "cell_type": "markdown",
   "id": "dcd6e471-c272-4e1e-9d49-dd7267f0e45f",
   "metadata": {},
   "source": [
    "We can use a technique called \"tweening\" to move individuals in our chart between data states. Let's make a histogram of `bill_length_mm` and `bill_depth_mm` from our 🐧 Palmer Penguins dataset with a rug."
   ]
  },
  {
   "cell_type": "code",
   "execution_count": null,
   "id": "5bcb377e-de60-4cda-8bb6-dd2557471754",
   "metadata": {},
   "outputs": [],
   "source": [
    "# 🏃🏽‍♀️ run me! \n",
    "\n",
    "penguins |> head()"
   ]
  },
  {
   "cell_type": "markdown",
   "id": "524d4394-9f7a-44c8-a48d-bfc7a924fcb0",
   "metadata": {},
   "source": [
    "First we need to reshape our data to make is suitable for the chart we want. I'm using the `pivot_longer` function below. Can you see the difference? 🔎"
   ]
  },
  {
   "cell_type": "code",
   "execution_count": null,
   "id": "afdaefd2-0ebb-4e14-b753-ce186e6ada2a",
   "metadata": {},
   "outputs": [],
   "source": [
    "# 🏃🏽‍♀️ run me! \n",
    "\n",
    "penguins2 = penguins |> \n",
    "    mutate(penguin_id = row_number()) |>\n",
    "    pivot_longer(cols = c(bill_length_mm, bill_depth_mm)) |>\n",
    "    select(species, name, value, penguin_id)\n",
    "\n",
    "penguins2 |> head()"
   ]
  },
  {
   "cell_type": "markdown",
   "id": "3f053864-9f91-43e0-ba3a-00f034486513",
   "metadata": {},
   "source": [
    "And this is a static histogram."
   ]
  },
  {
   "cell_type": "code",
   "execution_count": null,
   "id": "b608a952-8c34-4f22-9288-7aef4815c706",
   "metadata": {},
   "outputs": [],
   "source": [
    "# 🏃🏽‍♀️ run me! \n",
    "\n",
    "options(repr.plot.width = 6, repr.plot.height = 4)\n",
    "\n",
    "p = ggplot(penguins2, aes(x = value, fill = name, color = name)) + \n",
    "    geom_histogram(position = 'identity', alpha = 0.5) +\n",
    "    scale_color_brewer(palette = 'Set2') +\n",
    "    scale_fill_brewer(palette = 'Set2') +\n",
    "    geom_rug(mapping = aes(group = penguin_id)) +\n",
    "    geom_rug(mapping = aes(group = penguin_id), data = penguins2 |> filter(penguin_id == 1), color = 'firebrick', size = 1)\n",
    "\n",
    "p"
   ]
  },
  {
   "cell_type": "markdown",
   "id": "7929e18c-64d5-4f49-834a-5cabfa784dc8",
   "metadata": {},
   "source": [
    "But let's *tranistion* from `bill_length_mm` to `bill_depth_mm` instead. Just like the chart above, we define the `transition_state`. The first argument for the `transition_state` layer is the column that defines the \"states\" of our data. These are the groups in our data that we are transitioning between. Next we decide how we want elements to enter/exit. \n",
    "\n",
    "**Because we are also defining a `group` encoding for the \"rug,\" our rug ticks \"tween\" between the two states insted of entering/exiting. We can track individual penguin bill depths and lengths.** \n",
    "\n",
    "\n",
    "**The bright red tick 🟥 shows the first penguin in our data set 🐧🐧🐧🐧!**\n",
    "\n",
    "**We can also add a title that shows the label for the current group being displayed. `{closesst_state}` in the `ggtitle` layer refers to `bill_depth_mm` or `bill_length_mm` depending on which data is currently displayed.** "
   ]
  },
  {
   "cell_type": "code",
   "execution_count": null,
   "id": "75e1debb-ab28-4058-8a76-e0ce07bd4777",
   "metadata": {},
   "outputs": [],
   "source": [
    "# 🏃🏽‍♀️ run me!\n",
    "\n",
    "anim = ggplot(penguins2, aes(x = value, fill = name, color = name)) + \n",
    "    geom_histogram(position = 'identity', alpha = 0.5) +\n",
    "    scale_color_brewer(palette = 'Set2') +\n",
    "    scale_fill_brewer(palette = 'Set2') +\n",
    "    geom_rug(mapping = aes(group = penguin_id)) +\n",
    "    geom_rug(mapping = aes(group = penguin_id), data = penguins2 |> filter(penguin_id == 1), color = 'firebrick', size = 1) +\n",
    "    transition_states(name) +      # 🆕\n",
    "    exit_shrink() + enter_grow() + # 🆕\n",
    "    ggtitle('{closest_state}')     # 🆕\n",
    "\n",
    "display_gif(anim, width = 5, height = 3.5, units = 'in', res = 250)"
   ]
  },
  {
   "cell_type": "markdown",
   "id": "3cb4d85e-48e7-490b-b28b-a33ae131b499",
   "metadata": {},
   "source": [
    "## Bar chart race"
   ]
  },
  {
   "cell_type": "markdown",
   "id": "99c8a922-863b-46cc-908e-4d452675127d",
   "metadata": {},
   "source": [
    "Adapted from excellent example here: [https://evamaerey.github.io/little_flipbooks_library/racing_bars/racing_barcharts.html](https://evamaerey.github.io/little_flipbooks_library/racing_bars/racing_barcharts.html)"
   ]
  },
  {
   "cell_type": "markdown",
   "id": "ef7e4684-5fe5-4c5c-8dfe-8b5ec957b82e",
   "metadata": {},
   "source": [
    "This is a more complicated example. We are going to make a [bar chart race visualization](https://observablehq.com/@mbostock/bar-chart-race-with-scrubber) of country population in the [Gapminder](https://www.gapminder.org/) dataset. "
   ]
  },
  {
   "cell_type": "markdown",
   "id": "7ae7fbde-5bcd-4e3b-abc0-a4b301145a01",
   "metadata": {},
   "source": [
    "The transition \"states\" of our data will be based on the `year` column. The cell below set up our data."
   ]
  },
  {
   "cell_type": "code",
   "execution_count": null,
   "id": "464b2718-6d96-4e49-a936-fe1c71313d8c",
   "metadata": {
    "scrolled": true
   },
   "outputs": [],
   "source": [
    "# 🏃🏽‍♀️ run me!\n",
    "\n",
    "ranked_countries = gapminder |>\n",
    "  select(country, pop, year, continent) |>  \n",
    "  group_by(year) |>  \n",
    "  arrange(year, -pop) |>  \n",
    "  mutate(rank = row_number(), date = parse_date_time(year, '%Y')) |>  \n",
    "  filter(rank <= 10)\n",
    "\n",
    "ranked_countries |> head()"
   ]
  },
  {
   "cell_type": "markdown",
   "id": "2c59a897-cb90-4530-8009-8085c623cc4a",
   "metadata": {},
   "source": [
    "### Make a bar chart for one year with `geom_col`"
   ]
  },
  {
   "cell_type": "markdown",
   "id": "a8ae1311-479c-4c75-a3a0-9ff15c094ca1",
   "metadata": {},
   "source": [
    "Filter one a year from our data set and with that year's data make a bar chart 📊\n",
    "of population by country."
   ]
  },
  {
   "cell_type": "code",
   "execution_count": null,
   "id": "65b810de-6765-4d2a-a9f3-63f7bf313e77",
   "metadata": {},
   "outputs": [],
   "source": [
    "# Add bar chart code here\n",
    "\n",
    "\n"
   ]
  },
  {
   "cell_type": "markdown",
   "id": "5f29be90-496c-4743-9919-6dcaa6453191",
   "metadata": {},
   "source": [
    "### Make a bar chart for one year with `geom_rect`"
   ]
  },
  {
   "cell_type": "markdown",
   "id": "012f8dba-d4a5-4159-9294-0096a7f159e9",
   "metadata": {},
   "source": [
    "For our bar chart race viz, we need to make a different kind of bar chart where we explicitly define the y-position of each bar and corresponding country name. See the example below. Can you make sense of this code? "
   ]
  },
  {
   "cell_type": "markdown",
   "id": "9e84c1f3-11ff-4fe8-a7c8-9bec707fa8e2",
   "metadata": {},
   "source": [
    "Use comments to turn on/off the `geom_text` layers. What do these layers do?"
   ]
  },
  {
   "cell_type": "code",
   "execution_count": null,
   "id": "b944798d-049d-417a-8288-f44a770612ad",
   "metadata": {},
   "outputs": [],
   "source": [
    "# 🏃🏽‍♀️ run me!\n",
    "\n",
    "ranked_countries |> filter(year == 1957) |>\n",
    "ggplot(aes(xmin = 0,  \n",
    "                  xmax = pop / 1000000,\n",
    "                  ymin = rank - .45,  \n",
    "                  ymax = rank + .45,\n",
    "                  y = rank,\n",
    "                  fill = continent,\n",
    "                  group = country)) +  \n",
    "    geom_rect(alpha = .7) +  \n",
    "    geom_text(col = \"gray13\",  \n",
    "              hjust = \"right\",  \n",
    "              aes(label = country), \n",
    "              size = 3,\n",
    "              x = -50) + \n",
    "    geom_text(x = 1000 , y = -9.5,  \n",
    "              family = \"Courier\",  \n",
    "              aes(label = as.character(year)),  \n",
    "              size = 10, col = \"grey40\") +\n",
    "    scale_fill_brewer(palette = \"Dark2\") +   \n",
    "    scale_y_reverse() +  \n",
    "    scale_x_continuous(limits = c(-600, 1400), breaks = c(250, 500, 750, 1000, 1250), \n",
    "                       labels = scales::label_comma(suffix = 'M')) +  \n",
    "    labs(x = 'Population', y = '', fill = 'Continent') +  \n",
    "    theme_minimal() +\n",
    "    theme(legend.text = element_text(size = 10), legend.key.size = unit(0.2, \"in\"),\n",
    "          axis.text.y = element_blank(), axis.text.x = element_text(size = 8))\n"
   ]
  },
  {
   "cell_type": "markdown",
   "id": "87bdcce4-8df2-4395-97d2-8cf38a067e28",
   "metadata": {},
   "source": [
    "With one line of code, we can turn this static chart into a dynamic visualization! See the `transition_`, and `ender_`/`exit_` layers below... \n",
    "\n",
    "**Play around with the `fps` (frames per second) and `nframes` arguments to `display_gif`. What do these arguments control?**"
   ]
  },
  {
   "cell_type": "code",
   "execution_count": null,
   "id": "421808f9-fdb4-4978-bb62-8d9e85b783be",
   "metadata": {},
   "outputs": [],
   "source": [
    "anim = ggplot(ranked_countries,  \n",
    "              aes(xmin = 0,  \n",
    "                  xmax = pop / 1000000,\n",
    "                  ymin = rank - .45,  \n",
    "                  ymax = rank + .45,\n",
    "                  y = rank,\n",
    "                  fill = continent,\n",
    "                  group = country)) +  \n",
    "    geom_rect(alpha = .7) +  \n",
    "    geom_text(col = \"gray13\",  \n",
    "              hjust = \"right\",  \n",
    "              aes(label = country), \n",
    "              size = 3,\n",
    "              x = -50) + \n",
    "    geom_text(x = 1000 , y = -9.5,  \n",
    "              family = \"courier\",  \n",
    "              aes(label = as.character(year)),  \n",
    "              size = 10, col = \"grey40\") +\n",
    "    scale_fill_brewer(palette = \"Dark2\") +   \n",
    "    scale_y_reverse() +  \n",
    "    scale_x_continuous(limits = c(-600, 1400), breaks = c(250, 500, 750, 1000, 1250), labels = scales::label_comma(suffix = 'M')) +  \n",
    "    labs(x = 'Population', y = '', fill = 'Continent') +  \n",
    "    theme_minimal() +\n",
    "    theme(legend.text = element_text(size = 10), legend.key.size = unit(0.2, \"in\"),\n",
    "          axis.text.y = element_blank(), axis.text.x = element_text(size = 8)) +\n",
    "    transition_states(date) + enter_fade() + exit_fade() # 🆕 this is all we need to add 🆒\n",
    "    \n",
    "display_gif(anim, height = 3.5, width = 6, units = 'in', res = 250, nframes = 300, fps = 20)"
   ]
  }
 ],
 "metadata": {
  "kernelspec": {
   "display_name": "R",
   "language": "R",
   "name": "ir"
  },
  "language_info": {
   "codemirror_mode": "r",
   "file_extension": ".r",
   "mimetype": "text/x-r-source",
   "name": "R",
   "pygments_lexer": "r",
   "version": "4.2.3"
  }
 },
 "nbformat": 4,
 "nbformat_minor": 5
}
